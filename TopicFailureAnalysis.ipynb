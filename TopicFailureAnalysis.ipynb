{
 "cells": [
  {
   "cell_type": "code",
   "execution_count": 1,
   "id": "dd3b7537",
   "metadata": {},
   "outputs": [],
   "source": [
    "# Imports\n",
    "\n",
    "import time\n",
    "import pandas as pd\n",
    "import numpy as np\n",
    "import pyterrier as pt"
   ]
  },
  {
   "cell_type": "code",
   "execution_count": 2,
   "id": "42ce4e44",
   "metadata": {},
   "outputs": [
    {
     "name": "stderr",
     "output_type": "stream",
     "text": [
      "PyTerrier 0.8.0 has loaded Terrier 5.6 (built by craigmacdonald on 2021-09-17 13:27)\n",
      "\n"
     ]
    }
   ],
   "source": [
    "# Initialize PyTerrier\n",
    "\n",
    "if not pt.started():\n",
    "    pt.init(boot_packages=[\"com.github.terrierteam:terrier-prf:-SNAPSHOT\"])"
   ]
  },
  {
   "cell_type": "code",
   "execution_count": 3,
   "id": "a5787e17",
   "metadata": {},
   "outputs": [],
   "source": [
    "dataset = pt.get_dataset(\"trec-deep-learning-passages\")"
   ]
  },
  {
   "cell_type": "markdown",
   "id": "fd414184",
   "metadata": {},
   "source": [
    "### Index Statistics"
   ]
  },
  {
   "cell_type": "code",
   "execution_count": 4,
   "id": "b6834083",
   "metadata": {
    "scrolled": true
   },
   "outputs": [
    {
     "name": "stdout",
     "output_type": "stream",
     "text": [
      "Number of documents: 8841823\n",
      "Number of terms: 1170682\n",
      "Number of postings: 215238456\n",
      "Number of fields: 1\n",
      "Number of tokens: 288759529\n",
      "Field names: [text]\n",
      "Positions:   false\n",
      "\n"
     ]
    }
   ],
   "source": [
    "# Terrier Load Index with stemming\n",
    "index_stemmed = dataset.get_index('terrier_stemmed')\n",
    "print(pt.IndexFactory.of(index_stemmed).getCollectionStatistics().toString())"
   ]
  },
  {
   "cell_type": "markdown",
   "id": "05dde397",
   "metadata": {},
   "source": [
    "### BM25 Baseline Topic Wise Analysis"
   ]
  },
  {
   "cell_type": "code",
   "execution_count": 5,
   "id": "973daf76",
   "metadata": {},
   "outputs": [],
   "source": [
    "BM25_baseline_stemmed = pt.BatchRetrieve(index_stemmed, wmodel=\"BM25\", verbose=True)"
   ]
  },
  {
   "cell_type": "markdown",
   "id": "f89bfdc7",
   "metadata": {},
   "source": [
    "Reference: [perquery passage ranking](https://pyterrier.readthedocs.io/en/latest/experiments.html#per-query-effectiveness)"
   ]
  },
  {
   "cell_type": "code",
   "execution_count": 6,
   "id": "6945e2b4",
   "metadata": {},
   "outputs": [
    {
     "name": "stdout",
     "output_type": "stream",
     "text": [
      "17:43:58.613 [main] WARN org.terrier.applications.batchquerying.TRECQuery - trec.encoding is not set; resorting to platform default (windows-1252). Retrieval may be platform dependent. Recommend trec.encoding=UTF-8\r\n"
     ]
    },
    {
     "name": "stderr",
     "output_type": "stream",
     "text": [
      "BR(BM25): 100%|██████████| 200/200 [00:16<00:00, 12.02q/s]\n"
     ]
    },
    {
     "name": "stdout",
     "output_type": "stream",
     "text": [
      "Time taken : 21.85712242126465\n"
     ]
    },
    {
     "name": "stderr",
     "output_type": "stream",
     "text": [
      "c:\\users\\chiel\\documents\\tu delft\\m2\\ir\\core-ir-project\\venv\\lib\\site-packages\\pyterrier\\pipelines.py:108: UserWarning: 157 topic(s) not found in qrels. Scores for these topics are given as NaN and should not contribute to averages.\n",
      "  warn(f'{backfill_count} topic(s) not found in qrels. Scores for these topics are given as NaN and should not contribute to averages.')\n"
     ]
    }
   ],
   "source": [
    "# perquery is set to true, because we need topic-wise passage ranks\n",
    "\n",
    "start_time = time.time()\n",
    "\n",
    "result_per_query = pt.Experiment([BM25_baseline_stemmed], \n",
    "                                 dataset.get_topics(\"test-2019\"),\n",
    "                                 dataset.get_qrels(\"test-2019\"), \n",
    "                                 eval_metrics=[\"recip_rank\", \"ndcg_cut_10\",\"map\"],\n",
    "                                 perquery=True)\n",
    "\n",
    "print(f'Time taken : {time.time() - start_time}')"
   ]
  },
  {
   "cell_type": "code",
   "execution_count": 7,
   "id": "bdf73828",
   "metadata": {},
   "outputs": [],
   "source": [
    "result_per_query = result_per_query[result_per_query[\"value\"].notnull()]"
   ]
  },
  {
   "cell_type": "code",
   "execution_count": 8,
   "id": "29d2358f",
   "metadata": {
    "scrolled": false
   },
   "outputs": [
    {
     "data": {
      "text/plain": "         name      qid measure     value\n96   BR(BM25)  1121709     map  0.000239\n6    BR(BM25)  1063750     map  0.003193\n93   BR(BM25)   443396     map  0.005157\n12   BR(BM25)   489204     map  0.055242\n39   BR(BM25)   962179     map  0.058701\n24   BR(BM25)   527433     map  0.064043\n78   BR(BM25)  1106007     map  0.094742\n27   BR(BM25)  1037798     map  0.109533\n48   BR(BM25)   451602     map  0.122208\n66   BR(BM25)   833860     map  0.139674\n3    BR(BM25)  1110199     map  0.141310\n120  BR(BM25)  1113437     map  0.146926\n57   BR(BM25)  1112341     map  0.150377\n42   BR(BM25)  1117099     map  0.214895\n45   BR(BM25)   148538     map  0.216894\n108  BR(BM25)    19335     map  0.225504\n99   BR(BM25)    87452     map  0.247845\n33   BR(BM25)   264014     map  0.276468\n54   BR(BM25)  1115776     map  0.282277\n75   BR(BM25)   183378     map  0.307442\n60   BR(BM25)   131843     map  0.326210\n87   BR(BM25)  1103812     map  0.327390\n114  BR(BM25)   405717     map  0.330586\n63   BR(BM25)   104861     map  0.356779\n123  BR(BM25)  1129237     map  0.368085\n30   BR(BM25)   915593     map  0.369940\n111  BR(BM25)    47923     map  0.405394\n84   BR(BM25)   490595     map  0.409779\n69   BR(BM25)   207786     map  0.430605\n105  BR(BM25)  1114646     map  0.453310\n51   BR(BM25)   359349     map  0.498399\n126  BR(BM25)   146187     map  0.539382\n21   BR(BM25)  1133167     map  0.575266\n15   BR(BM25)   573724     map  0.580209\n72   BR(BM25)  1114819     map  0.671132\n90   BR(BM25)    87181     map  0.683568\n0    BR(BM25)   156493     map  0.742523\n18   BR(BM25)   168216     map  0.792078\n102  BR(BM25)   855410     map  0.804167\n36   BR(BM25)  1121402     map  0.809884\n117  BR(BM25)   182539     map  0.811010\n9    BR(BM25)   130510     map  0.851095\n81   BR(BM25)  1124210     map  0.910701",
      "text/html": "<div>\n<style scoped>\n    .dataframe tbody tr th:only-of-type {\n        vertical-align: middle;\n    }\n\n    .dataframe tbody tr th {\n        vertical-align: top;\n    }\n\n    .dataframe thead th {\n        text-align: right;\n    }\n</style>\n<table border=\"1\" class=\"dataframe\">\n  <thead>\n    <tr style=\"text-align: right;\">\n      <th></th>\n      <th>name</th>\n      <th>qid</th>\n      <th>measure</th>\n      <th>value</th>\n    </tr>\n  </thead>\n  <tbody>\n    <tr>\n      <th>96</th>\n      <td>BR(BM25)</td>\n      <td>1121709</td>\n      <td>map</td>\n      <td>0.000239</td>\n    </tr>\n    <tr>\n      <th>6</th>\n      <td>BR(BM25)</td>\n      <td>1063750</td>\n      <td>map</td>\n      <td>0.003193</td>\n    </tr>\n    <tr>\n      <th>93</th>\n      <td>BR(BM25)</td>\n      <td>443396</td>\n      <td>map</td>\n      <td>0.005157</td>\n    </tr>\n    <tr>\n      <th>12</th>\n      <td>BR(BM25)</td>\n      <td>489204</td>\n      <td>map</td>\n      <td>0.055242</td>\n    </tr>\n    <tr>\n      <th>39</th>\n      <td>BR(BM25)</td>\n      <td>962179</td>\n      <td>map</td>\n      <td>0.058701</td>\n    </tr>\n    <tr>\n      <th>24</th>\n      <td>BR(BM25)</td>\n      <td>527433</td>\n      <td>map</td>\n      <td>0.064043</td>\n    </tr>\n    <tr>\n      <th>78</th>\n      <td>BR(BM25)</td>\n      <td>1106007</td>\n      <td>map</td>\n      <td>0.094742</td>\n    </tr>\n    <tr>\n      <th>27</th>\n      <td>BR(BM25)</td>\n      <td>1037798</td>\n      <td>map</td>\n      <td>0.109533</td>\n    </tr>\n    <tr>\n      <th>48</th>\n      <td>BR(BM25)</td>\n      <td>451602</td>\n      <td>map</td>\n      <td>0.122208</td>\n    </tr>\n    <tr>\n      <th>66</th>\n      <td>BR(BM25)</td>\n      <td>833860</td>\n      <td>map</td>\n      <td>0.139674</td>\n    </tr>\n    <tr>\n      <th>3</th>\n      <td>BR(BM25)</td>\n      <td>1110199</td>\n      <td>map</td>\n      <td>0.141310</td>\n    </tr>\n    <tr>\n      <th>120</th>\n      <td>BR(BM25)</td>\n      <td>1113437</td>\n      <td>map</td>\n      <td>0.146926</td>\n    </tr>\n    <tr>\n      <th>57</th>\n      <td>BR(BM25)</td>\n      <td>1112341</td>\n      <td>map</td>\n      <td>0.150377</td>\n    </tr>\n    <tr>\n      <th>42</th>\n      <td>BR(BM25)</td>\n      <td>1117099</td>\n      <td>map</td>\n      <td>0.214895</td>\n    </tr>\n    <tr>\n      <th>45</th>\n      <td>BR(BM25)</td>\n      <td>148538</td>\n      <td>map</td>\n      <td>0.216894</td>\n    </tr>\n    <tr>\n      <th>108</th>\n      <td>BR(BM25)</td>\n      <td>19335</td>\n      <td>map</td>\n      <td>0.225504</td>\n    </tr>\n    <tr>\n      <th>99</th>\n      <td>BR(BM25)</td>\n      <td>87452</td>\n      <td>map</td>\n      <td>0.247845</td>\n    </tr>\n    <tr>\n      <th>33</th>\n      <td>BR(BM25)</td>\n      <td>264014</td>\n      <td>map</td>\n      <td>0.276468</td>\n    </tr>\n    <tr>\n      <th>54</th>\n      <td>BR(BM25)</td>\n      <td>1115776</td>\n      <td>map</td>\n      <td>0.282277</td>\n    </tr>\n    <tr>\n      <th>75</th>\n      <td>BR(BM25)</td>\n      <td>183378</td>\n      <td>map</td>\n      <td>0.307442</td>\n    </tr>\n    <tr>\n      <th>60</th>\n      <td>BR(BM25)</td>\n      <td>131843</td>\n      <td>map</td>\n      <td>0.326210</td>\n    </tr>\n    <tr>\n      <th>87</th>\n      <td>BR(BM25)</td>\n      <td>1103812</td>\n      <td>map</td>\n      <td>0.327390</td>\n    </tr>\n    <tr>\n      <th>114</th>\n      <td>BR(BM25)</td>\n      <td>405717</td>\n      <td>map</td>\n      <td>0.330586</td>\n    </tr>\n    <tr>\n      <th>63</th>\n      <td>BR(BM25)</td>\n      <td>104861</td>\n      <td>map</td>\n      <td>0.356779</td>\n    </tr>\n    <tr>\n      <th>123</th>\n      <td>BR(BM25)</td>\n      <td>1129237</td>\n      <td>map</td>\n      <td>0.368085</td>\n    </tr>\n    <tr>\n      <th>30</th>\n      <td>BR(BM25)</td>\n      <td>915593</td>\n      <td>map</td>\n      <td>0.369940</td>\n    </tr>\n    <tr>\n      <th>111</th>\n      <td>BR(BM25)</td>\n      <td>47923</td>\n      <td>map</td>\n      <td>0.405394</td>\n    </tr>\n    <tr>\n      <th>84</th>\n      <td>BR(BM25)</td>\n      <td>490595</td>\n      <td>map</td>\n      <td>0.409779</td>\n    </tr>\n    <tr>\n      <th>69</th>\n      <td>BR(BM25)</td>\n      <td>207786</td>\n      <td>map</td>\n      <td>0.430605</td>\n    </tr>\n    <tr>\n      <th>105</th>\n      <td>BR(BM25)</td>\n      <td>1114646</td>\n      <td>map</td>\n      <td>0.453310</td>\n    </tr>\n    <tr>\n      <th>51</th>\n      <td>BR(BM25)</td>\n      <td>359349</td>\n      <td>map</td>\n      <td>0.498399</td>\n    </tr>\n    <tr>\n      <th>126</th>\n      <td>BR(BM25)</td>\n      <td>146187</td>\n      <td>map</td>\n      <td>0.539382</td>\n    </tr>\n    <tr>\n      <th>21</th>\n      <td>BR(BM25)</td>\n      <td>1133167</td>\n      <td>map</td>\n      <td>0.575266</td>\n    </tr>\n    <tr>\n      <th>15</th>\n      <td>BR(BM25)</td>\n      <td>573724</td>\n      <td>map</td>\n      <td>0.580209</td>\n    </tr>\n    <tr>\n      <th>72</th>\n      <td>BR(BM25)</td>\n      <td>1114819</td>\n      <td>map</td>\n      <td>0.671132</td>\n    </tr>\n    <tr>\n      <th>90</th>\n      <td>BR(BM25)</td>\n      <td>87181</td>\n      <td>map</td>\n      <td>0.683568</td>\n    </tr>\n    <tr>\n      <th>0</th>\n      <td>BR(BM25)</td>\n      <td>156493</td>\n      <td>map</td>\n      <td>0.742523</td>\n    </tr>\n    <tr>\n      <th>18</th>\n      <td>BR(BM25)</td>\n      <td>168216</td>\n      <td>map</td>\n      <td>0.792078</td>\n    </tr>\n    <tr>\n      <th>102</th>\n      <td>BR(BM25)</td>\n      <td>855410</td>\n      <td>map</td>\n      <td>0.804167</td>\n    </tr>\n    <tr>\n      <th>36</th>\n      <td>BR(BM25)</td>\n      <td>1121402</td>\n      <td>map</td>\n      <td>0.809884</td>\n    </tr>\n    <tr>\n      <th>117</th>\n      <td>BR(BM25)</td>\n      <td>182539</td>\n      <td>map</td>\n      <td>0.811010</td>\n    </tr>\n    <tr>\n      <th>9</th>\n      <td>BR(BM25)</td>\n      <td>130510</td>\n      <td>map</td>\n      <td>0.851095</td>\n    </tr>\n    <tr>\n      <th>81</th>\n      <td>BR(BM25)</td>\n      <td>1124210</td>\n      <td>map</td>\n      <td>0.910701</td>\n    </tr>\n  </tbody>\n</table>\n</div>"
     },
     "execution_count": 8,
     "metadata": {},
     "output_type": "execute_result"
    }
   ],
   "source": [
    "#Perquery performance\n",
    "result_per_query[result_per_query[\"measure\"]=='map'].sort_values(by=\"value\")"
   ]
  },
  {
   "cell_type": "code",
   "execution_count": 9,
   "id": "6bda538f",
   "metadata": {},
   "outputs": [
    {
     "name": "stdout",
     "output_type": "stream",
     "text": [
      "17:44:20.499 [main] WARN org.terrier.applications.batchquerying.TRECQuery - trec.encoding is not set; resorting to platform default (windows-1252). Retrieval may be platform dependent. Recommend trec.encoding=UTF-8\r\n"
     ]
    },
    {
     "data": {
      "text/plain": "       qid                                              query\n0  1108939                  what slows down the flow of blood\n1  1112389             what is the county for grand rapids mn\n2   792752                                     what is ruclip\n3  1119729  what do you do when you have a nosebleed from ...\n4  1105095                  where is sugar lake lodge located",
      "text/html": "<div>\n<style scoped>\n    .dataframe tbody tr th:only-of-type {\n        vertical-align: middle;\n    }\n\n    .dataframe tbody tr th {\n        vertical-align: top;\n    }\n\n    .dataframe thead th {\n        text-align: right;\n    }\n</style>\n<table border=\"1\" class=\"dataframe\">\n  <thead>\n    <tr style=\"text-align: right;\">\n      <th></th>\n      <th>qid</th>\n      <th>query</th>\n    </tr>\n  </thead>\n  <tbody>\n    <tr>\n      <th>0</th>\n      <td>1108939</td>\n      <td>what slows down the flow of blood</td>\n    </tr>\n    <tr>\n      <th>1</th>\n      <td>1112389</td>\n      <td>what is the county for grand rapids mn</td>\n    </tr>\n    <tr>\n      <th>2</th>\n      <td>792752</td>\n      <td>what is ruclip</td>\n    </tr>\n    <tr>\n      <th>3</th>\n      <td>1119729</td>\n      <td>what do you do when you have a nosebleed from ...</td>\n    </tr>\n    <tr>\n      <th>4</th>\n      <td>1105095</td>\n      <td>where is sugar lake lodge located</td>\n    </tr>\n  </tbody>\n</table>\n</div>"
     },
     "execution_count": 9,
     "metadata": {},
     "output_type": "execute_result"
    }
   ],
   "source": [
    "topics = dataset.get_topics(\"test-2019\")\n",
    "topics.head()"
   ]
  },
  {
   "cell_type": "code",
   "execution_count": 10,
   "id": "d7123bb4",
   "metadata": {},
   "outputs": [
    {
     "data": {
      "text/plain": "     qid    docno  label\n0  19335  1017759      0\n1  19335  1082489      0\n2  19335   109063      0\n3  19335  1160863      0\n4  19335  1160871      0",
      "text/html": "<div>\n<style scoped>\n    .dataframe tbody tr th:only-of-type {\n        vertical-align: middle;\n    }\n\n    .dataframe tbody tr th {\n        vertical-align: top;\n    }\n\n    .dataframe thead th {\n        text-align: right;\n    }\n</style>\n<table border=\"1\" class=\"dataframe\">\n  <thead>\n    <tr style=\"text-align: right;\">\n      <th></th>\n      <th>qid</th>\n      <th>docno</th>\n      <th>label</th>\n    </tr>\n  </thead>\n  <tbody>\n    <tr>\n      <th>0</th>\n      <td>19335</td>\n      <td>1017759</td>\n      <td>0</td>\n    </tr>\n    <tr>\n      <th>1</th>\n      <td>19335</td>\n      <td>1082489</td>\n      <td>0</td>\n    </tr>\n    <tr>\n      <th>2</th>\n      <td>19335</td>\n      <td>109063</td>\n      <td>0</td>\n    </tr>\n    <tr>\n      <th>3</th>\n      <td>19335</td>\n      <td>1160863</td>\n      <td>0</td>\n    </tr>\n    <tr>\n      <th>4</th>\n      <td>19335</td>\n      <td>1160871</td>\n      <td>0</td>\n    </tr>\n  </tbody>\n</table>\n</div>"
     },
     "execution_count": 10,
     "metadata": {},
     "output_type": "execute_result"
    }
   ],
   "source": [
    "qrels = dataset.get_qrels(\"test-2019\")\n",
    "qrels.head()"
   ]
  },
  {
   "cell_type": "code",
   "execution_count": 11,
   "id": "b0e07260",
   "metadata": {},
   "outputs": [
    {
     "name": "stderr",
     "output_type": "stream",
     "text": [
      "BR(BM25): 100%|██████████| 200/200 [00:13<00:00, 14.97q/s]\n"
     ]
    },
    {
     "data": {
      "text/plain": "       qid    docid    docno  rank      score  \\\n0  1108939  4069373  4069373     0  36.189054   \n1  1108939  4744533  4744533     1  35.865644   \n2  1108939  7454708  7454708     2  34.213639   \n3  1108939  7724054  7724054     3  33.891239   \n4  1108939   841975   841975     4  33.763758   \n\n                               query  \n0  what slows down the flow of blood  \n1  what slows down the flow of blood  \n2  what slows down the flow of blood  \n3  what slows down the flow of blood  \n4  what slows down the flow of blood  ",
      "text/html": "<div>\n<style scoped>\n    .dataframe tbody tr th:only-of-type {\n        vertical-align: middle;\n    }\n\n    .dataframe tbody tr th {\n        vertical-align: top;\n    }\n\n    .dataframe thead th {\n        text-align: right;\n    }\n</style>\n<table border=\"1\" class=\"dataframe\">\n  <thead>\n    <tr style=\"text-align: right;\">\n      <th></th>\n      <th>qid</th>\n      <th>docid</th>\n      <th>docno</th>\n      <th>rank</th>\n      <th>score</th>\n      <th>query</th>\n    </tr>\n  </thead>\n  <tbody>\n    <tr>\n      <th>0</th>\n      <td>1108939</td>\n      <td>4069373</td>\n      <td>4069373</td>\n      <td>0</td>\n      <td>36.189054</td>\n      <td>what slows down the flow of blood</td>\n    </tr>\n    <tr>\n      <th>1</th>\n      <td>1108939</td>\n      <td>4744533</td>\n      <td>4744533</td>\n      <td>1</td>\n      <td>35.865644</td>\n      <td>what slows down the flow of blood</td>\n    </tr>\n    <tr>\n      <th>2</th>\n      <td>1108939</td>\n      <td>7454708</td>\n      <td>7454708</td>\n      <td>2</td>\n      <td>34.213639</td>\n      <td>what slows down the flow of blood</td>\n    </tr>\n    <tr>\n      <th>3</th>\n      <td>1108939</td>\n      <td>7724054</td>\n      <td>7724054</td>\n      <td>3</td>\n      <td>33.891239</td>\n      <td>what slows down the flow of blood</td>\n    </tr>\n    <tr>\n      <th>4</th>\n      <td>1108939</td>\n      <td>841975</td>\n      <td>841975</td>\n      <td>4</td>\n      <td>33.763758</td>\n      <td>what slows down the flow of blood</td>\n    </tr>\n  </tbody>\n</table>\n</div>"
     },
     "execution_count": 11,
     "metadata": {},
     "output_type": "execute_result"
    }
   ],
   "source": [
    "BM25_baseline_results = BM25_baseline_stemmed(topics)\n",
    "BM25_baseline_results.head()"
   ]
  },
  {
   "cell_type": "markdown",
   "id": "6b8ee7ac",
   "metadata": {},
   "source": [
    "### Find the worst performing topics"
   ]
  },
  {
   "cell_type": "code",
   "execution_count": 12,
   "id": "05fb16e3",
   "metadata": {},
   "outputs": [
    {
     "data": {
      "text/plain": "        name      qid      measure     value\n41  BR(BM25)   962179  ndcg_cut_10  0.000000\n98  BR(BM25)  1121709  ndcg_cut_10  0.000000\n95  BR(BM25)   443396  ndcg_cut_10  0.069431\n50  BR(BM25)   451602  ndcg_cut_10  0.122273\n8   BR(BM25)  1063750  ndcg_cut_10  0.142811",
      "text/html": "<div>\n<style scoped>\n    .dataframe tbody tr th:only-of-type {\n        vertical-align: middle;\n    }\n\n    .dataframe tbody tr th {\n        vertical-align: top;\n    }\n\n    .dataframe thead th {\n        text-align: right;\n    }\n</style>\n<table border=\"1\" class=\"dataframe\">\n  <thead>\n    <tr style=\"text-align: right;\">\n      <th></th>\n      <th>name</th>\n      <th>qid</th>\n      <th>measure</th>\n      <th>value</th>\n    </tr>\n  </thead>\n  <tbody>\n    <tr>\n      <th>41</th>\n      <td>BR(BM25)</td>\n      <td>962179</td>\n      <td>ndcg_cut_10</td>\n      <td>0.000000</td>\n    </tr>\n    <tr>\n      <th>98</th>\n      <td>BR(BM25)</td>\n      <td>1121709</td>\n      <td>ndcg_cut_10</td>\n      <td>0.000000</td>\n    </tr>\n    <tr>\n      <th>95</th>\n      <td>BR(BM25)</td>\n      <td>443396</td>\n      <td>ndcg_cut_10</td>\n      <td>0.069431</td>\n    </tr>\n    <tr>\n      <th>50</th>\n      <td>BR(BM25)</td>\n      <td>451602</td>\n      <td>ndcg_cut_10</td>\n      <td>0.122273</td>\n    </tr>\n    <tr>\n      <th>8</th>\n      <td>BR(BM25)</td>\n      <td>1063750</td>\n      <td>ndcg_cut_10</td>\n      <td>0.142811</td>\n    </tr>\n  </tbody>\n</table>\n</div>"
     },
     "execution_count": 12,
     "metadata": {},
     "output_type": "execute_result"
    }
   ],
   "source": [
    "# List of worst performing qids\n",
    "\n",
    "worst_perf_qids = []\n",
    "worst_perf_qids.append(list(result_per_query[result_per_query[\"measure\"]=='ndcg_cut_10'].sort_values(by=\"value\").head(5)['qid']))\n",
    "result_per_query[result_per_query[\"measure\"]=='ndcg_cut_10'].sort_values(by=\"value\").head(5)"
   ]
  },
  {
   "cell_type": "code",
   "execution_count": 13,
   "id": "72dd030d",
   "metadata": {},
   "outputs": [
    {
     "data": {
      "text/plain": "        name      qid     measure     value\n97  BR(BM25)  1121709  recip_rank  0.002874\n40  BR(BM25)   962179  recip_rank  0.025000\n94  BR(BM25)   443396  recip_rank  0.125000\n46  BR(BM25)   148538  recip_rank  0.200000\n49  BR(BM25)   451602  recip_rank  0.333333",
      "text/html": "<div>\n<style scoped>\n    .dataframe tbody tr th:only-of-type {\n        vertical-align: middle;\n    }\n\n    .dataframe tbody tr th {\n        vertical-align: top;\n    }\n\n    .dataframe thead th {\n        text-align: right;\n    }\n</style>\n<table border=\"1\" class=\"dataframe\">\n  <thead>\n    <tr style=\"text-align: right;\">\n      <th></th>\n      <th>name</th>\n      <th>qid</th>\n      <th>measure</th>\n      <th>value</th>\n    </tr>\n  </thead>\n  <tbody>\n    <tr>\n      <th>97</th>\n      <td>BR(BM25)</td>\n      <td>1121709</td>\n      <td>recip_rank</td>\n      <td>0.002874</td>\n    </tr>\n    <tr>\n      <th>40</th>\n      <td>BR(BM25)</td>\n      <td>962179</td>\n      <td>recip_rank</td>\n      <td>0.025000</td>\n    </tr>\n    <tr>\n      <th>94</th>\n      <td>BR(BM25)</td>\n      <td>443396</td>\n      <td>recip_rank</td>\n      <td>0.125000</td>\n    </tr>\n    <tr>\n      <th>46</th>\n      <td>BR(BM25)</td>\n      <td>148538</td>\n      <td>recip_rank</td>\n      <td>0.200000</td>\n    </tr>\n    <tr>\n      <th>49</th>\n      <td>BR(BM25)</td>\n      <td>451602</td>\n      <td>recip_rank</td>\n      <td>0.333333</td>\n    </tr>\n  </tbody>\n</table>\n</div>"
     },
     "execution_count": 13,
     "metadata": {},
     "output_type": "execute_result"
    }
   ],
   "source": [
    "worst_perf_qids.append(list(result_per_query[result_per_query[\"measure\"]=='recip_rank'].sort_values(by=\"value\").head(5)['qid']))\n",
    "result_per_query[result_per_query[\"measure\"]=='recip_rank'].sort_values(by=\"value\").head(5)"
   ]
  },
  {
   "cell_type": "code",
   "execution_count": 14,
   "id": "b61a1c9d",
   "metadata": {},
   "outputs": [
    {
     "data": {
      "text/plain": "        name      qid measure     value\n96  BR(BM25)  1121709     map  0.000239\n6   BR(BM25)  1063750     map  0.003193\n93  BR(BM25)   443396     map  0.005157\n12  BR(BM25)   489204     map  0.055242\n39  BR(BM25)   962179     map  0.058701",
      "text/html": "<div>\n<style scoped>\n    .dataframe tbody tr th:only-of-type {\n        vertical-align: middle;\n    }\n\n    .dataframe tbody tr th {\n        vertical-align: top;\n    }\n\n    .dataframe thead th {\n        text-align: right;\n    }\n</style>\n<table border=\"1\" class=\"dataframe\">\n  <thead>\n    <tr style=\"text-align: right;\">\n      <th></th>\n      <th>name</th>\n      <th>qid</th>\n      <th>measure</th>\n      <th>value</th>\n    </tr>\n  </thead>\n  <tbody>\n    <tr>\n      <th>96</th>\n      <td>BR(BM25)</td>\n      <td>1121709</td>\n      <td>map</td>\n      <td>0.000239</td>\n    </tr>\n    <tr>\n      <th>6</th>\n      <td>BR(BM25)</td>\n      <td>1063750</td>\n      <td>map</td>\n      <td>0.003193</td>\n    </tr>\n    <tr>\n      <th>93</th>\n      <td>BR(BM25)</td>\n      <td>443396</td>\n      <td>map</td>\n      <td>0.005157</td>\n    </tr>\n    <tr>\n      <th>12</th>\n      <td>BR(BM25)</td>\n      <td>489204</td>\n      <td>map</td>\n      <td>0.055242</td>\n    </tr>\n    <tr>\n      <th>39</th>\n      <td>BR(BM25)</td>\n      <td>962179</td>\n      <td>map</td>\n      <td>0.058701</td>\n    </tr>\n  </tbody>\n</table>\n</div>"
     },
     "execution_count": 14,
     "metadata": {},
     "output_type": "execute_result"
    }
   ],
   "source": [
    "worst_perf_qids.append(list(result_per_query[result_per_query[\"measure\"]=='map'].sort_values(by=\"value\").head(5)['qid']))\n",
    "result_per_query[result_per_query[\"measure\"]=='map'].sort_values(by=\"value\").head(5)"
   ]
  },
  {
   "cell_type": "code",
   "execution_count": 15,
   "id": "e54dfc61",
   "metadata": {},
   "outputs": [
    {
     "data": {
      "text/plain": "['443396', '451602', '1121709', '962179', '489204', '148538', '1063750']"
     },
     "execution_count": 15,
     "metadata": {},
     "output_type": "execute_result"
    }
   ],
   "source": [
    "# Get unique list of top 5 worst performing queries\n",
    "worst_perf_qids = np.array(worst_perf_qids).flatten().tolist()\n",
    "worst_perf_qids = list(set(worst_perf_qids))\n",
    "worst_perf_qids"
   ]
  },
  {
   "cell_type": "code",
   "execution_count": 16,
   "id": "16e68bfb",
   "metadata": {},
   "outputs": [
    {
     "data": {
      "text/plain": "       qid                                query\n76  962179  when was the salvation army founded",
      "text/html": "<div>\n<style scoped>\n    .dataframe tbody tr th:only-of-type {\n        vertical-align: middle;\n    }\n\n    .dataframe tbody tr th {\n        vertical-align: top;\n    }\n\n    .dataframe thead th {\n        text-align: right;\n    }\n</style>\n<table border=\"1\" class=\"dataframe\">\n  <thead>\n    <tr style=\"text-align: right;\">\n      <th></th>\n      <th>qid</th>\n      <th>query</th>\n    </tr>\n  </thead>\n  <tbody>\n    <tr>\n      <th>76</th>\n      <td>962179</td>\n      <td>when was the salvation army founded</td>\n    </tr>\n  </tbody>\n</table>\n</div>"
     },
     "execution_count": 16,
     "metadata": {},
     "output_type": "execute_result"
    }
   ],
   "source": [
    "#Get the text corresponding required qid, to use in the search() for query specific passage ranks\n",
    "topics[topics[\"qid\"] == \"962179\"]"
   ]
  },
  {
   "cell_type": "markdown",
   "id": "c5cd5d36",
   "metadata": {},
   "source": [
    "### Crosscheck relevance of top ranked passages\n",
    "Reference: [passage ranking results specific to a query](https://github.com/terrier-org/cikm2021tutorial/blob/main/notebooks/notebook1.ipynb)"
   ]
  },
  {
   "cell_type": "code",
   "execution_count": 17,
   "id": "a69d06b0",
   "metadata": {},
   "outputs": [
    {
     "name": "stderr",
     "output_type": "stream",
     "text": [
      "BR(BM25): 100%|██████████| 1/1 [00:00<00:00, 15.87q/s]\n"
     ]
    },
    {
     "data": {
      "text/plain": "   qid    docid    docno  rank      score                                query\n0    1  8689054  8689054     0  38.471748  when was the salvation army founded\n1    1  4511501  4511501     1  38.190918  when was the salvation army founded\n2    1  4511504  4511504     2  37.620726  when was the salvation army founded\n3    1  8689056  8689056     3  37.273490  when was the salvation army founded\n4    1  5773189  5773189     4  36.879666  when was the salvation army founded\n..  ..      ...      ...   ...        ...                                  ...\n95   1  7428148  7428148    95  28.872857  when was the salvation army founded\n96   1  4606387  4606387    96  28.859203  when was the salvation army founded\n97   1   181089   181089    97  28.833306  when was the salvation army founded\n98   1  5427064  5427064    98  28.731822  when was the salvation army founded\n99   1  7260574  7260574    99  28.649108  when was the salvation army founded\n\n[100 rows x 6 columns]",
      "text/html": "<div>\n<style scoped>\n    .dataframe tbody tr th:only-of-type {\n        vertical-align: middle;\n    }\n\n    .dataframe tbody tr th {\n        vertical-align: top;\n    }\n\n    .dataframe thead th {\n        text-align: right;\n    }\n</style>\n<table border=\"1\" class=\"dataframe\">\n  <thead>\n    <tr style=\"text-align: right;\">\n      <th></th>\n      <th>qid</th>\n      <th>docid</th>\n      <th>docno</th>\n      <th>rank</th>\n      <th>score</th>\n      <th>query</th>\n    </tr>\n  </thead>\n  <tbody>\n    <tr>\n      <th>0</th>\n      <td>1</td>\n      <td>8689054</td>\n      <td>8689054</td>\n      <td>0</td>\n      <td>38.471748</td>\n      <td>when was the salvation army founded</td>\n    </tr>\n    <tr>\n      <th>1</th>\n      <td>1</td>\n      <td>4511501</td>\n      <td>4511501</td>\n      <td>1</td>\n      <td>38.190918</td>\n      <td>when was the salvation army founded</td>\n    </tr>\n    <tr>\n      <th>2</th>\n      <td>1</td>\n      <td>4511504</td>\n      <td>4511504</td>\n      <td>2</td>\n      <td>37.620726</td>\n      <td>when was the salvation army founded</td>\n    </tr>\n    <tr>\n      <th>3</th>\n      <td>1</td>\n      <td>8689056</td>\n      <td>8689056</td>\n      <td>3</td>\n      <td>37.273490</td>\n      <td>when was the salvation army founded</td>\n    </tr>\n    <tr>\n      <th>4</th>\n      <td>1</td>\n      <td>5773189</td>\n      <td>5773189</td>\n      <td>4</td>\n      <td>36.879666</td>\n      <td>when was the salvation army founded</td>\n    </tr>\n    <tr>\n      <th>...</th>\n      <td>...</td>\n      <td>...</td>\n      <td>...</td>\n      <td>...</td>\n      <td>...</td>\n      <td>...</td>\n    </tr>\n    <tr>\n      <th>95</th>\n      <td>1</td>\n      <td>7428148</td>\n      <td>7428148</td>\n      <td>95</td>\n      <td>28.872857</td>\n      <td>when was the salvation army founded</td>\n    </tr>\n    <tr>\n      <th>96</th>\n      <td>1</td>\n      <td>4606387</td>\n      <td>4606387</td>\n      <td>96</td>\n      <td>28.859203</td>\n      <td>when was the salvation army founded</td>\n    </tr>\n    <tr>\n      <th>97</th>\n      <td>1</td>\n      <td>181089</td>\n      <td>181089</td>\n      <td>97</td>\n      <td>28.833306</td>\n      <td>when was the salvation army founded</td>\n    </tr>\n    <tr>\n      <th>98</th>\n      <td>1</td>\n      <td>5427064</td>\n      <td>5427064</td>\n      <td>98</td>\n      <td>28.731822</td>\n      <td>when was the salvation army founded</td>\n    </tr>\n    <tr>\n      <th>99</th>\n      <td>1</td>\n      <td>7260574</td>\n      <td>7260574</td>\n      <td>99</td>\n      <td>28.649108</td>\n      <td>when was the salvation army founded</td>\n    </tr>\n  </tbody>\n</table>\n<p>100 rows × 6 columns</p>\n</div>"
     },
     "execution_count": 17,
     "metadata": {},
     "output_type": "execute_result"
    }
   ],
   "source": [
    "baselineRanks_perQuery = BM25_baseline_stemmed.search(\"when was the salvation army founded\").head(100)\n",
    "baselineRanks_perQuery"
   ]
  },
  {
   "cell_type": "code",
   "execution_count": 18,
   "id": "ebca81e3",
   "metadata": {},
   "outputs": [],
   "source": [
    "#Get the qrels scores for the required query\n",
    "required_query_relevance = qrels.loc[(qrels[\"qid\"] == \"962179\"),  \n",
    "\n",
    "               [\"qid\",\"docno\",\"label\"]]"
   ]
  },
  {
   "cell_type": "code",
   "execution_count": 19,
   "id": "245bc036",
   "metadata": {},
   "outputs": [
    {
     "data": {
      "text/plain": "         qid    docno  label\n5351  962179  2329692      3\n5352  962179  2329693      3\n5356  962179  2329697      3\n5358  962179  2329699      3\n5360  962179  2329701      3\n5363  962179  2978864      3\n5365  962179  2978866      3\n5387  962179  3705165      3\n5394  962179  3896632      3\n5406  962179  4511499      3\n5412  962179  4606386      3\n5413  962179  4606387      3\n5422  962179   536176      3\n5434  962179  5653659      3\n5438  962179  5919340      3\n5440  962179  5919342      3\n5450  962179  6898289      3\n5456  962179  6980697      3\n5479  962179  8785367      3\n5483  962179  8785371      3",
      "text/html": "<div>\n<style scoped>\n    .dataframe tbody tr th:only-of-type {\n        vertical-align: middle;\n    }\n\n    .dataframe tbody tr th {\n        vertical-align: top;\n    }\n\n    .dataframe thead th {\n        text-align: right;\n    }\n</style>\n<table border=\"1\" class=\"dataframe\">\n  <thead>\n    <tr style=\"text-align: right;\">\n      <th></th>\n      <th>qid</th>\n      <th>docno</th>\n      <th>label</th>\n    </tr>\n  </thead>\n  <tbody>\n    <tr>\n      <th>5351</th>\n      <td>962179</td>\n      <td>2329692</td>\n      <td>3</td>\n    </tr>\n    <tr>\n      <th>5352</th>\n      <td>962179</td>\n      <td>2329693</td>\n      <td>3</td>\n    </tr>\n    <tr>\n      <th>5356</th>\n      <td>962179</td>\n      <td>2329697</td>\n      <td>3</td>\n    </tr>\n    <tr>\n      <th>5358</th>\n      <td>962179</td>\n      <td>2329699</td>\n      <td>3</td>\n    </tr>\n    <tr>\n      <th>5360</th>\n      <td>962179</td>\n      <td>2329701</td>\n      <td>3</td>\n    </tr>\n    <tr>\n      <th>5363</th>\n      <td>962179</td>\n      <td>2978864</td>\n      <td>3</td>\n    </tr>\n    <tr>\n      <th>5365</th>\n      <td>962179</td>\n      <td>2978866</td>\n      <td>3</td>\n    </tr>\n    <tr>\n      <th>5387</th>\n      <td>962179</td>\n      <td>3705165</td>\n      <td>3</td>\n    </tr>\n    <tr>\n      <th>5394</th>\n      <td>962179</td>\n      <td>3896632</td>\n      <td>3</td>\n    </tr>\n    <tr>\n      <th>5406</th>\n      <td>962179</td>\n      <td>4511499</td>\n      <td>3</td>\n    </tr>\n    <tr>\n      <th>5412</th>\n      <td>962179</td>\n      <td>4606386</td>\n      <td>3</td>\n    </tr>\n    <tr>\n      <th>5413</th>\n      <td>962179</td>\n      <td>4606387</td>\n      <td>3</td>\n    </tr>\n    <tr>\n      <th>5422</th>\n      <td>962179</td>\n      <td>536176</td>\n      <td>3</td>\n    </tr>\n    <tr>\n      <th>5434</th>\n      <td>962179</td>\n      <td>5653659</td>\n      <td>3</td>\n    </tr>\n    <tr>\n      <th>5438</th>\n      <td>962179</td>\n      <td>5919340</td>\n      <td>3</td>\n    </tr>\n    <tr>\n      <th>5440</th>\n      <td>962179</td>\n      <td>5919342</td>\n      <td>3</td>\n    </tr>\n    <tr>\n      <th>5450</th>\n      <td>962179</td>\n      <td>6898289</td>\n      <td>3</td>\n    </tr>\n    <tr>\n      <th>5456</th>\n      <td>962179</td>\n      <td>6980697</td>\n      <td>3</td>\n    </tr>\n    <tr>\n      <th>5479</th>\n      <td>962179</td>\n      <td>8785367</td>\n      <td>3</td>\n    </tr>\n    <tr>\n      <th>5483</th>\n      <td>962179</td>\n      <td>8785371</td>\n      <td>3</td>\n    </tr>\n  </tbody>\n</table>\n</div>"
     },
     "execution_count": 19,
     "metadata": {},
     "output_type": "execute_result"
    }
   ],
   "source": [
    "#Get those documents for the required query which have the highest relevance scores\n",
    "requiredQueryQrels = qrels.loc[(qrels[\"qid\"] == \"962179\"),  \n",
    "\n",
    "               [\"qid\",\"docno\",\"label\"]]\n",
    "isMostRelevant = requiredQueryQrels[\"label\"] > 2\n",
    "mostRelavantPassages = requiredQueryQrels[isMostRelevant]\n",
    "mostRelavantPassages"
   ]
  },
  {
   "cell_type": "code",
   "execution_count": 20,
   "id": "c3a95fdd",
   "metadata": {},
   "outputs": [
    {
     "name": "stdout",
     "output_type": "stream",
     "text": [
      "doc absent: 2329692\n",
      "doc absent: 2329693\n",
      "doc present: 2329697\n",
      "doc absent: 2329699\n",
      "doc absent: 2329701\n",
      "doc absent: 2978864\n",
      "doc present: 2978866\n",
      "doc absent: 3705165\n",
      "doc absent: 3896632\n",
      "doc present: 4511499\n",
      "doc absent: 4606386\n",
      "doc present: 4606387\n",
      "doc absent: 536176\n",
      "doc absent: 5653659\n",
      "doc absent: 5919340\n",
      "doc absent: 5919342\n",
      "doc absent: 6898289\n",
      "doc present: 6980697\n",
      "doc absent: 8785367\n",
      "doc absent: 8785371\n",
      "5/20 of the most relevant passages in top 100 ranked passages\n"
     ]
    }
   ],
   "source": [
    "# How many of the most relevant passages are present in the top 100 retrieved by BM25\n",
    "\n",
    "listOfDocNo = mostRelavantPassages[\"docno\"].tolist()\n",
    "revCounter = len(listOfDocNo)\n",
    "\n",
    "for doc in listOfDocNo:\n",
    "    tmpdf = baselineRanks_perQuery[baselineRanks_perQuery[\"docno\"] == doc]\n",
    "    if tmpdf.empty:\n",
    "        print(f'doc absent: {doc}')\n",
    "        revCounter = revCounter - 1\n",
    "    else:\n",
    "        print(f'doc present: {doc}')\n",
    "print(f'{revCounter}/{len(listOfDocNo)} of the most relevant passages in top 100 ranked passages')"
   ]
  },
  {
   "cell_type": "markdown",
   "source": [
    "### Term Importance"
   ],
   "metadata": {
    "collapsed": false,
    "pycharm": {
     "name": "#%% md\n"
    }
   }
  },
  {
   "cell_type": "code",
   "execution_count": 21,
   "outputs": [],
   "source": [
    "def calc_important_terms(query):\n",
    "    terms = query.split(' ')\n",
    "    res = BM25_baseline_stemmed.search(query)[:5]\n",
    "    docids = list(res['docid'])\n",
    "    print('total result:')\n",
    "    print(res)\n",
    "    for term in terms:\n",
    "        print()\n",
    "        print(term, \":\")\n",
    "        term_result = BM25_baseline_stemmed.search(term)\n",
    "        condition = term_result.docid.isin(docids)\n",
    "        top = term_result[condition]\n",
    "        print('avg score:', sum(list(top['score']))/5)\n",
    "        print(top)"
   ],
   "metadata": {
    "collapsed": false,
    "pycharm": {
     "name": "#%%\n"
    }
   }
  },
  {
   "cell_type": "code",
   "execution_count": 22,
   "outputs": [
    {
     "name": "stderr",
     "output_type": "stream",
     "text": [
      "BR(BM25): 100%|██████████| 1/1 [00:00<00:00, 23.80q/s]\n"
     ]
    },
    {
     "name": "stdout",
     "output_type": "stream",
     "text": [
      "total result:\n",
      "  qid    docid    docno  rank      score  \\\n",
      "0   1  4788295  4788295     0  30.340022   \n",
      "1   1  2997653  2997653     1  29.795791   \n",
      "2   1  4337527  4337527     2  29.564491   \n",
      "3   1  6093907  6093907     3  27.676235   \n",
      "4   1  2981566  2981566     4  27.031930   \n",
      "\n",
      "                                   query  \n",
      "0  why did the us volunterilay enter ww1  \n",
      "1  why did the us volunterilay enter ww1  \n",
      "2  why did the us volunterilay enter ww1  \n",
      "3  why did the us volunterilay enter ww1  \n",
      "4  why did the us volunterilay enter ww1  \n",
      "\n",
      "why :\n"
     ]
    },
    {
     "name": "stderr",
     "output_type": "stream",
     "text": [
      "BR(BM25): 100%|██████████| 1/1 [00:00<00:00, 198.70q/s]\n"
     ]
    },
    {
     "name": "stdout",
     "output_type": "stream",
     "text": [
      "avg score: 0.0\n",
      "Empty DataFrame\n",
      "Columns: [docid, docno, rank, score, qid, query]\n",
      "Index: []\n",
      "\n",
      "did :\n"
     ]
    },
    {
     "name": "stderr",
     "output_type": "stream",
     "text": [
      "BR(BM25): 100%|██████████| 1/1 [00:00<00:00, 499.80q/s]\n"
     ]
    },
    {
     "name": "stdout",
     "output_type": "stream",
     "text": [
      "avg score: 0.0\n",
      "Empty DataFrame\n",
      "Columns: [docid, docno, rank, score, qid, query]\n",
      "Index: []\n",
      "\n",
      "the :\n"
     ]
    },
    {
     "name": "stderr",
     "output_type": "stream",
     "text": [
      "BR(BM25): 100%|██████████| 1/1 [00:00<00:00, 498.37q/s]\n"
     ]
    },
    {
     "name": "stdout",
     "output_type": "stream",
     "text": [
      "avg score: 0.0\n",
      "Empty DataFrame\n",
      "Columns: [docid, docno, rank, score, qid, query]\n",
      "Index: []\n",
      "\n",
      "us :\n"
     ]
    },
    {
     "name": "stderr",
     "output_type": "stream",
     "text": [
      "BR(BM25): 100%|██████████| 1/1 [00:00<00:00, 996.27q/s]\n"
     ]
    },
    {
     "name": "stdout",
     "output_type": "stream",
     "text": [
      "avg score: 0.0\n",
      "Empty DataFrame\n",
      "Columns: [docid, docno, rank, score, qid, query]\n",
      "Index: []\n",
      "\n",
      "volunterilay :\n"
     ]
    },
    {
     "name": "stderr",
     "output_type": "stream",
     "text": [
      "BR(BM25): 100%|██████████| 1/1 [00:00<00:00, 499.68q/s]\n"
     ]
    },
    {
     "name": "stdout",
     "output_type": "stream",
     "text": [
      "avg score: 0.0\n",
      "Empty DataFrame\n",
      "Columns: [docid, docno, rank, score, qid, query]\n",
      "Index: []\n",
      "\n",
      "enter :\n"
     ]
    },
    {
     "name": "stderr",
     "output_type": "stream",
     "text": [
      "BR(BM25): 100%|██████████| 1/1 [00:00<00:00, 24.38q/s]\n"
     ]
    },
    {
     "name": "stdout",
     "output_type": "stream",
     "text": [
      "avg score: 2.1080811877964374\n",
      "    qid    docid    docno  rank      score  query\n",
      "559   1  4337527  4337527   559  10.540406  enter\n",
      "\n",
      "ww1 :\n"
     ]
    },
    {
     "name": "stderr",
     "output_type": "stream",
     "text": [
      "BR(BM25): 100%|██████████| 1/1 [00:00<00:00, 83.23q/s]\n"
     ]
    },
    {
     "name": "stdout",
     "output_type": "stream",
     "text": [
      "avg score: 21.163387540816554\n",
      "   qid    docid    docno  rank      score query\n",
      "0    1  2997653  2997653     0  24.219973   ww1\n",
      "3    1  4788295  4788295     3  23.049556   ww1\n",
      "29   1  2981566  2981566    29  20.358123   ww1\n",
      "51   1  6093907  6093907    51  19.165201   ww1\n",
      "52   1  4337527  4337527    52  19.024085   ww1\n"
     ]
    },
    {
     "name": "stderr",
     "output_type": "stream",
     "text": [
      "BR(BM25): 100%|██████████| 1/1 [00:00<00:00, 19.11q/s]\n"
     ]
    },
    {
     "name": "stdout",
     "output_type": "stream",
     "text": [
      "total result:\n",
      "  qid    docid    docno  rank      score                             query\n",
      "0   1  8612905  8612905     0  38.268905  definition declaratory judgement\n",
      "1   1   955702   955702     1  30.340646  definition declaratory judgement\n",
      "2   1   955706   955706     2  28.190404  definition declaratory judgement\n",
      "3   1  1262137  1262137     3  27.946515  definition declaratory judgement\n",
      "4   1  1100639  1100639     4  27.837080  definition declaratory judgement\n",
      "\n",
      "definition :\n"
     ]
    },
    {
     "name": "stderr",
     "output_type": "stream",
     "text": [
      "BR(BM25): 100%|██████████| 1/1 [00:00<00:00, 20.41q/s]\n"
     ]
    },
    {
     "name": "stdout",
     "output_type": "stream",
     "text": [
      "avg score: 0.0\n",
      "Empty DataFrame\n",
      "Columns: [qid, docid, docno, rank, score, query]\n",
      "Index: []\n",
      "\n",
      "declaratory :\n"
     ]
    },
    {
     "name": "stderr",
     "output_type": "stream",
     "text": [
      "BR(BM25): 100%|██████████| 1/1 [00:00<00:00, 142.95q/s]\n"
     ]
    },
    {
     "name": "stdout",
     "output_type": "stream",
     "text": [
      "avg score: 4.725226192568324\n",
      "   qid    docid    docno  rank      score        query\n",
      "16   1  8612905  8612905    16  23.626131  declaratory\n",
      "\n",
      "judgement :\n"
     ]
    },
    {
     "name": "stderr",
     "output_type": "stream",
     "text": [
      "BR(BM25): 100%|██████████| 1/1 [00:00<00:00, 40.00q/s]"
     ]
    },
    {
     "name": "stdout",
     "output_type": "stream",
     "text": [
      "avg score: 19.77587836643682\n",
      "    qid    docid    docno  rank      score      query\n",
      "4     1   955702   955702     4  22.302855  judgement\n",
      "8     1   955706   955706     8  22.178974  judgement\n",
      "33    1  1262137  1262137    33  20.269292  judgement\n",
      "62    1  1100639  1100639    62  19.485498  judgement\n",
      "477   1  8612905  8612905   477  14.642774  judgement\n"
     ]
    },
    {
     "name": "stderr",
     "output_type": "stream",
     "text": [
      "\n",
      "BR(BM25): 100%|██████████| 1/1 [00:00<00:00, 12.35q/s]\n"
     ]
    },
    {
     "name": "stdout",
     "output_type": "stream",
     "text": [
      "total result:\n",
      "  qid    docid    docno  rank      score  \\\n",
      "0   1  3344828  3344828     0  67.590115   \n",
      "1   1  1381477  1381477     1  67.283411   \n",
      "2   1  3830857  3830857     2  67.283411   \n",
      "3   1  3174840  3174840     3  64.836880   \n",
      "4   1  1735360  1735360     4  62.984521   \n",
      "\n",
      "                                         query  \n",
      "0  does legionella pneumophila cause pneumonia  \n",
      "1  does legionella pneumophila cause pneumonia  \n",
      "2  does legionella pneumophila cause pneumonia  \n",
      "3  does legionella pneumophila cause pneumonia  \n",
      "4  does legionella pneumophila cause pneumonia  \n",
      "\n",
      "does :\n"
     ]
    },
    {
     "name": "stderr",
     "output_type": "stream",
     "text": [
      "BR(BM25): 100%|██████████| 1/1 [00:00<00:00, 500.33q/s]\n"
     ]
    },
    {
     "name": "stdout",
     "output_type": "stream",
     "text": [
      "avg score: 0.0\n",
      "Empty DataFrame\n",
      "Columns: [docid, docno, rank, score, qid, query]\n",
      "Index: []\n",
      "\n",
      "legionella :\n"
     ]
    },
    {
     "name": "stderr",
     "output_type": "stream",
     "text": [
      "BR(BM25): 100%|██████████| 1/1 [00:00<00:00, 62.50q/s]\n"
     ]
    },
    {
     "name": "stdout",
     "output_type": "stream",
     "text": [
      "avg score: 20.29739926874832\n",
      "    qid    docid    docno  rank      score       query\n",
      "9     1  3344828  3344828     9  24.348731  legionella\n",
      "80    1  1381477  1381477    80  20.035820  legionella\n",
      "81    1  3830857  3830857    81  20.035820  legionella\n",
      "109   1  3174840  3174840   109  18.598533  legionella\n",
      "110   1  1735360  1735360   110  18.468093  legionella\n",
      "\n",
      "pneumophila :\n"
     ]
    },
    {
     "name": "stderr",
     "output_type": "stream",
     "text": [
      "BR(BM25): 100%|██████████| 1/1 [00:00<00:00, 166.69q/s]\n"
     ]
    },
    {
     "name": "stdout",
     "output_type": "stream",
     "text": [
      "avg score: 21.593699697799185\n",
      "   qid    docid    docno  rank      score        query\n",
      "6    1  3344828  3344828     6  23.716360  pneumophila\n",
      "16   1  1381477  1381477    16  21.883570  pneumophila\n",
      "18   1  3830857  3830857    18  21.883570  pneumophila\n",
      "25   1  3174840  3174840    25  20.313734  pneumophila\n",
      "27   1  1735360  1735360    27  20.171264  pneumophila\n",
      "\n",
      "cause :\n"
     ]
    },
    {
     "name": "stderr",
     "output_type": "stream",
     "text": [
      "BR(BM25): 100%|██████████| 1/1 [00:00<00:00, 14.09q/s]\n"
     ]
    },
    {
     "name": "stdout",
     "output_type": "stream",
     "text": [
      "avg score: 0.0\n",
      "Empty DataFrame\n",
      "Columns: [qid, docid, docno, rank, score, query]\n",
      "Index: []\n",
      "\n",
      "pneumonia :\n"
     ]
    },
    {
     "name": "stderr",
     "output_type": "stream",
     "text": [
      "BR(BM25): 100%|██████████| 1/1 [00:00<00:00, 35.71q/s]\n"
     ]
    },
    {
     "name": "stdout",
     "output_type": "stream",
     "text": [
      "avg score: 14.59963273743576\n",
      "    qid    docid    docno  rank      score      query\n",
      "7     1  3174840  3174840     7  19.080014  pneumonia\n",
      "78    1  1381477  1381477    78  18.193548  pneumonia\n",
      "79    1  3830857  3830857    79  18.193548  pneumonia\n",
      "214   1  1735360  1735360   214  17.531054  pneumonia\n"
     ]
    },
    {
     "name": "stderr",
     "output_type": "stream",
     "text": [
      "BR(BM25): 100%|██████████| 1/1 [00:00<00:00, 15.63q/s]\n"
     ]
    },
    {
     "name": "stdout",
     "output_type": "stream",
     "text": [
      "total result:\n",
      "  qid    docid    docno  rank      score                                query\n",
      "0   1  8689054  8689054     0  38.471748  when was the salvation army founded\n",
      "1   1  4511501  4511501     1  38.190918  when was the salvation army founded\n",
      "2   1  4511504  4511504     2  37.620726  when was the salvation army founded\n",
      "3   1  8689056  8689056     3  37.273490  when was the salvation army founded\n",
      "4   1  5773189  5773189     4  36.879666  when was the salvation army founded\n",
      "\n",
      "when :\n"
     ]
    },
    {
     "name": "stderr",
     "output_type": "stream",
     "text": [
      "BR(BM25): 100%|██████████| 1/1 [00:00<00:00, 1000.55q/s]\n"
     ]
    },
    {
     "name": "stdout",
     "output_type": "stream",
     "text": [
      "avg score: 0.0\n",
      "Empty DataFrame\n",
      "Columns: [docid, docno, rank, score, qid, query]\n",
      "Index: []\n",
      "\n",
      "was :\n"
     ]
    },
    {
     "name": "stderr",
     "output_type": "stream",
     "text": [
      "BR(BM25): 100%|██████████| 1/1 [00:00<00:00, 999.60q/s]\n"
     ]
    },
    {
     "name": "stdout",
     "output_type": "stream",
     "text": [
      "avg score: 0.0\n",
      "Empty DataFrame\n",
      "Columns: [docid, docno, rank, score, qid, query]\n",
      "Index: []\n",
      "\n",
      "the :\n"
     ]
    },
    {
     "name": "stderr",
     "output_type": "stream",
     "text": [
      "BR(BM25): 100%|██████████| 1/1 [00:00<00:00, 496.48q/s]\n"
     ]
    },
    {
     "name": "stdout",
     "output_type": "stream",
     "text": [
      "avg score: 0.0\n",
      "Empty DataFrame\n",
      "Columns: [docid, docno, rank, score, qid, query]\n",
      "Index: []\n",
      "\n",
      "salvation :\n"
     ]
    },
    {
     "name": "stderr",
     "output_type": "stream",
     "text": [
      "BR(BM25): 100%|██████████| 1/1 [00:00<00:00, 40.00q/s]\n"
     ]
    },
    {
     "name": "stdout",
     "output_type": "stream",
     "text": [
      "avg score: 21.063656212203824\n",
      "   qid    docid    docno  rank      score      query\n",
      "0    1  8689054  8689054     0  23.299275  salvation\n",
      "4    1  5773189  5773189     4  22.335078  salvation\n",
      "40   1  4511501  4511501    40  20.006730  salvation\n",
      "48   1  8689056  8689056    48  19.935902  salvation\n",
      "53   1  4511504  4511504    53  19.741296  salvation\n",
      "\n",
      "army :\n"
     ]
    },
    {
     "name": "stderr",
     "output_type": "stream",
     "text": [
      "BR(BM25): 100%|██████████| 1/1 [00:00<00:00, 31.25q/s]\n"
     ]
    },
    {
     "name": "stdout",
     "output_type": "stream",
     "text": [
      "avg score: 5.943412119774716\n",
      "    qid    docid    docno  rank      score query\n",
      "33    1  8689054  8689054    33  15.172473  army\n",
      "151   1  5773189  5773189   151  14.544588  army\n",
      "\n",
      "founded :\n"
     ]
    },
    {
     "name": "stderr",
     "output_type": "stream",
     "text": [
      "BR(BM25): 100%|██████████| 1/1 [00:00<00:00, 18.52q/s]"
     ]
    },
    {
     "name": "stdout",
     "output_type": "stream",
     "text": [
      "avg score: 0.0\n",
      "Empty DataFrame\n",
      "Columns: [qid, docid, docno, rank, score, query]\n",
      "Index: []\n"
     ]
    },
    {
     "name": "stderr",
     "output_type": "stream",
     "text": [
      "\n"
     ]
    }
   ],
   "source": [
    "calc_important_terms('why did the us volunterilay enter ww1')\n",
    "calc_important_terms('definition declaratory judgement')\n",
    "calc_important_terms('does legionella pneumophila cause pneumonia')\n",
    "calc_important_terms('when was the salvation army founded')"
   ],
   "metadata": {
    "collapsed": false,
    "pycharm": {
     "name": "#%%\n"
    }
   }
  }
 ],
 "metadata": {
  "kernelspec": {
   "display_name": "Python 3",
   "language": "python",
   "name": "python3"
  },
  "language_info": {
   "codemirror_mode": {
    "name": "ipython",
    "version": 3
   },
   "file_extension": ".py",
   "mimetype": "text/x-python",
   "name": "python",
   "nbconvert_exporter": "python",
   "pygments_lexer": "ipython3",
   "version": "3.6.9"
  }
 },
 "nbformat": 4,
 "nbformat_minor": 5
}