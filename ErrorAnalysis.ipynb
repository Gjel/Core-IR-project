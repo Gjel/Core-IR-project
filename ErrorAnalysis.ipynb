{
 "cells": [
  {
   "cell_type": "code",
   "execution_count": 1,
   "metadata": {
    "id": "pcIc0ZVU7pKl"
   },
   "outputs": [],
   "source": [
    "# [COLAB] Installations\n",
    "\n",
    "# %%capture\n",
    "# !pip install --upgrade git+https://github.com/terrier-org/pyterrier.git#egg=python-terrier\n",
    "# !pip install --upgrade git+https://github.com/terrierteam/pyterrier_doc2query.git"
   ]
  },
  {
   "cell_type": "code",
   "execution_count": 2,
   "metadata": {
    "id": "JPqxGKMD7vP2"
   },
   "outputs": [],
   "source": [
    "# Imports\n",
    "\n",
    "import time, os\n",
    "import pandas as pd\n",
    "import numpy as np\n",
    "import pyterrier as pt"
   ]
  },
  {
   "cell_type": "code",
   "execution_count": 3,
   "metadata": {
    "id": "4QddbE8f_LxK"
   },
   "outputs": [
    {
     "name": "stderr",
     "output_type": "stream",
     "text": [
      "PyTerrier 0.8.0 has loaded Terrier 5.6 (built by craigmacdonald on 2021-09-17 13:27)\n",
      "\n",
      "No etc/terrier.properties, using terrier.default.properties for bootstrap configuration.\n"
     ]
    }
   ],
   "source": [
    "# Initialize PyTerrier\n",
    "\n",
    "if not pt.started():\n",
    "    pt.init(boot_packages=[\"com.github.terrierteam:terrier-prf:-SNAPSHOT\"])"
   ]
  },
  {
   "cell_type": "code",
   "execution_count": 4,
   "metadata": {
    "id": "1M00VPmm_NlG"
   },
   "outputs": [],
   "source": [
    "dataset = pt.get_dataset(\"trec-deep-learning-passages\")"
   ]
  },
  {
   "cell_type": "markdown",
   "metadata": {
    "id": "zjCPw4sM_Yu7"
   },
   "source": [
    "#### Index Statistics"
   ]
  },
  {
   "cell_type": "code",
   "execution_count": 5,
   "metadata": {},
   "outputs": [
    {
     "name": "stdout",
     "output_type": "stream",
     "text": [
      "Number of documents: 8841823\n",
      "Number of terms: 1372086\n",
      "Number of postings: 356030265\n",
      "Number of fields: 1\n",
      "Number of tokens: 511225848\n",
      "Field names: [text]\n",
      "Positions:   false\n",
      "\n"
     ]
    }
   ],
   "source": [
    "# Terrier Load Index without stemming\n",
    "\n",
    "index_unstemmed = dataset.get_index('terrier_unstemmed')\n",
    "print(pt.IndexFactory.of(index_unstemmed).getCollectionStatistics().toString())"
   ]
  },
  {
   "cell_type": "code",
   "execution_count": 6,
   "metadata": {
    "id": "pwUc2FWc_PtR"
   },
   "outputs": [
    {
     "name": "stdout",
     "output_type": "stream",
     "text": [
      "Number of documents: 8841823\n",
      "Number of terms: 1170682\n",
      "Number of postings: 215238456\n",
      "Number of fields: 1\n",
      "Number of tokens: 288759529\n",
      "Field names: [text]\n",
      "Positions:   false\n",
      "\n"
     ]
    }
   ],
   "source": [
    "# Terrier Load Index with stemming\n",
    "\n",
    "index = dataset.get_index('terrier_stemmed')\n",
    "print(pt.IndexFactory.of(index).getCollectionStatistics().toString())"
   ]
  },
  {
   "cell_type": "code",
   "execution_count": 7,
   "metadata": {},
   "outputs": [
    {
     "name": "stdout",
     "output_type": "stream",
     "text": [
      "Number of documents: 8841823\n",
      "Number of terms: 2341829\n",
      "Number of postings: 330953705\n",
      "Number of fields: 1\n",
      "Number of tokens: 1453630605\n",
      "Field names: [text]\n",
      "Positions:   false\n",
      "\n"
     ]
    }
   ],
   "source": [
    "# Terrier Load Index with stemming and doc2query\n",
    "\n",
    "index_doc2query = dataset.get_index('terrier_stemmed_docT5query')\n",
    "print(pt.IndexFactory.of(index_doc2query).getCollectionStatistics().toString())"
   ]
  },
  {
   "cell_type": "markdown",
   "metadata": {
    "id": "NR4B_OIm_a5d"
   },
   "source": [
    "#### BM25 Baseline Topic Wise Analysis"
   ]
  },
  {
   "cell_type": "code",
   "execution_count": null,
   "metadata": {},
   "outputs": [],
   "source": [
    "collection = dataset.get_corpus()[0]"
   ]
  },
  {
   "cell_type": "code",
   "execution_count": 8,
   "metadata": {},
   "outputs": [
    {
     "data": {
      "text/html": [
       "<div>\n",
       "<style scoped>\n",
       "    .dataframe tbody tr th:only-of-type {\n",
       "        vertical-align: middle;\n",
       "    }\n",
       "\n",
       "    .dataframe tbody tr th {\n",
       "        vertical-align: top;\n",
       "    }\n",
       "\n",
       "    .dataframe thead th {\n",
       "        text-align: right;\n",
       "    }\n",
       "</style>\n",
       "<table border=\"1\" class=\"dataframe\">\n",
       "  <thead>\n",
       "    <tr style=\"text-align: right;\">\n",
       "      <th></th>\n",
       "      <th>qid</th>\n",
       "      <th>query</th>\n",
       "    </tr>\n",
       "  </thead>\n",
       "  <tbody>\n",
       "    <tr>\n",
       "      <th>0</th>\n",
       "      <td>1108939</td>\n",
       "      <td>what slows down the flow of blood</td>\n",
       "    </tr>\n",
       "    <tr>\n",
       "      <th>1</th>\n",
       "      <td>1112389</td>\n",
       "      <td>what is the county for grand rapids mn</td>\n",
       "    </tr>\n",
       "    <tr>\n",
       "      <th>2</th>\n",
       "      <td>792752</td>\n",
       "      <td>what is ruclip</td>\n",
       "    </tr>\n",
       "    <tr>\n",
       "      <th>3</th>\n",
       "      <td>1119729</td>\n",
       "      <td>what do you do when you have a nosebleed from ...</td>\n",
       "    </tr>\n",
       "    <tr>\n",
       "      <th>4</th>\n",
       "      <td>1105095</td>\n",
       "      <td>where is sugar lake lodge located</td>\n",
       "    </tr>\n",
       "  </tbody>\n",
       "</table>\n",
       "</div>"
      ],
      "text/plain": [
       "       qid                                              query\n",
       "0  1108939                  what slows down the flow of blood\n",
       "1  1112389             what is the county for grand rapids mn\n",
       "2   792752                                     what is ruclip\n",
       "3  1119729  what do you do when you have a nosebleed from ...\n",
       "4  1105095                  where is sugar lake lodge located"
      ]
     },
     "execution_count": 8,
     "metadata": {},
     "output_type": "execute_result"
    }
   ],
   "source": [
    "topics = dataset.get_topics(\"test-2019\")\n",
    "topics.head()"
   ]
  },
  {
   "cell_type": "code",
   "execution_count": 9,
   "metadata": {},
   "outputs": [
    {
     "data": {
      "text/html": [
       "<div>\n",
       "<style scoped>\n",
       "    .dataframe tbody tr th:only-of-type {\n",
       "        vertical-align: middle;\n",
       "    }\n",
       "\n",
       "    .dataframe tbody tr th {\n",
       "        vertical-align: top;\n",
       "    }\n",
       "\n",
       "    .dataframe thead th {\n",
       "        text-align: right;\n",
       "    }\n",
       "</style>\n",
       "<table border=\"1\" class=\"dataframe\">\n",
       "  <thead>\n",
       "    <tr style=\"text-align: right;\">\n",
       "      <th></th>\n",
       "      <th>qid</th>\n",
       "      <th>docno</th>\n",
       "      <th>label</th>\n",
       "    </tr>\n",
       "  </thead>\n",
       "  <tbody>\n",
       "    <tr>\n",
       "      <th>0</th>\n",
       "      <td>19335</td>\n",
       "      <td>1017759</td>\n",
       "      <td>0</td>\n",
       "    </tr>\n",
       "    <tr>\n",
       "      <th>1</th>\n",
       "      <td>19335</td>\n",
       "      <td>1082489</td>\n",
       "      <td>0</td>\n",
       "    </tr>\n",
       "    <tr>\n",
       "      <th>2</th>\n",
       "      <td>19335</td>\n",
       "      <td>109063</td>\n",
       "      <td>0</td>\n",
       "    </tr>\n",
       "    <tr>\n",
       "      <th>3</th>\n",
       "      <td>19335</td>\n",
       "      <td>1160863</td>\n",
       "      <td>0</td>\n",
       "    </tr>\n",
       "    <tr>\n",
       "      <th>4</th>\n",
       "      <td>19335</td>\n",
       "      <td>1160871</td>\n",
       "      <td>0</td>\n",
       "    </tr>\n",
       "  </tbody>\n",
       "</table>\n",
       "</div>"
      ],
      "text/plain": [
       "     qid    docno  label\n",
       "0  19335  1017759      0\n",
       "1  19335  1082489      0\n",
       "2  19335   109063      0\n",
       "3  19335  1160863      0\n",
       "4  19335  1160871      0"
      ]
     },
     "execution_count": 9,
     "metadata": {},
     "output_type": "execute_result"
    }
   ],
   "source": [
    "qrels = dataset.get_qrels(\"test-2019\")\n",
    "qrels.head()"
   ]
  },
  {
   "cell_type": "code",
   "execution_count": 12,
   "metadata": {
    "id": "NHGm23pV_SaV"
   },
   "outputs": [],
   "source": [
    "BM25_baseline = pt.BatchRetrieve(index, wmodel=\"BM25\", verbose=True)"
   ]
  },
  {
   "cell_type": "code",
   "execution_count": 13,
   "metadata": {
    "id": "ptJN9iEP_Vyh"
   },
   "outputs": [
    {
     "name": "stderr",
     "output_type": "stream",
     "text": [
      "BR(BM25): 100%|████████████████████████████████████████████████████████████████| 200/200 [00:12<00:00, 16.20q/s]\n"
     ]
    }
   ],
   "source": [
    "BM25_baseline_results = BM25_baseline(topics)"
   ]
  },
  {
   "cell_type": "code",
   "execution_count": 14,
   "metadata": {},
   "outputs": [
    {
     "data": {
      "text/html": [
       "<div>\n",
       "<style scoped>\n",
       "    .dataframe tbody tr th:only-of-type {\n",
       "        vertical-align: middle;\n",
       "    }\n",
       "\n",
       "    .dataframe tbody tr th {\n",
       "        vertical-align: top;\n",
       "    }\n",
       "\n",
       "    .dataframe thead th {\n",
       "        text-align: right;\n",
       "    }\n",
       "</style>\n",
       "<table border=\"1\" class=\"dataframe\">\n",
       "  <thead>\n",
       "    <tr style=\"text-align: right;\">\n",
       "      <th></th>\n",
       "      <th>qid</th>\n",
       "      <th>docid</th>\n",
       "      <th>docno</th>\n",
       "      <th>rank</th>\n",
       "      <th>score</th>\n",
       "      <th>query</th>\n",
       "    </tr>\n",
       "  </thead>\n",
       "  <tbody>\n",
       "    <tr>\n",
       "      <th>0</th>\n",
       "      <td>1108939</td>\n",
       "      <td>4069373</td>\n",
       "      <td>4069373</td>\n",
       "      <td>0</td>\n",
       "      <td>36.189054</td>\n",
       "      <td>what slows down the flow of blood</td>\n",
       "    </tr>\n",
       "    <tr>\n",
       "      <th>1</th>\n",
       "      <td>1108939</td>\n",
       "      <td>4744533</td>\n",
       "      <td>4744533</td>\n",
       "      <td>1</td>\n",
       "      <td>35.865644</td>\n",
       "      <td>what slows down the flow of blood</td>\n",
       "    </tr>\n",
       "    <tr>\n",
       "      <th>2</th>\n",
       "      <td>1108939</td>\n",
       "      <td>7454708</td>\n",
       "      <td>7454708</td>\n",
       "      <td>2</td>\n",
       "      <td>34.213639</td>\n",
       "      <td>what slows down the flow of blood</td>\n",
       "    </tr>\n",
       "    <tr>\n",
       "      <th>3</th>\n",
       "      <td>1108939</td>\n",
       "      <td>7724054</td>\n",
       "      <td>7724054</td>\n",
       "      <td>3</td>\n",
       "      <td>33.891239</td>\n",
       "      <td>what slows down the flow of blood</td>\n",
       "    </tr>\n",
       "    <tr>\n",
       "      <th>4</th>\n",
       "      <td>1108939</td>\n",
       "      <td>841975</td>\n",
       "      <td>841975</td>\n",
       "      <td>4</td>\n",
       "      <td>33.763758</td>\n",
       "      <td>what slows down the flow of blood</td>\n",
       "    </tr>\n",
       "  </tbody>\n",
       "</table>\n",
       "</div>"
      ],
      "text/plain": [
       "       qid    docid    docno  rank      score  \\\n",
       "0  1108939  4069373  4069373     0  36.189054   \n",
       "1  1108939  4744533  4744533     1  35.865644   \n",
       "2  1108939  7454708  7454708     2  34.213639   \n",
       "3  1108939  7724054  7724054     3  33.891239   \n",
       "4  1108939   841975   841975     4  33.763758   \n",
       "\n",
       "                               query  \n",
       "0  what slows down the flow of blood  \n",
       "1  what slows down the flow of blood  \n",
       "2  what slows down the flow of blood  \n",
       "3  what slows down the flow of blood  \n",
       "4  what slows down the flow of blood  "
      ]
     },
     "execution_count": 14,
     "metadata": {},
     "output_type": "execute_result"
    }
   ],
   "source": [
    "BM25_baseline_results.head()"
   ]
  },
  {
   "cell_type": "code",
   "execution_count": 15,
   "metadata": {
    "id": "jqEXnLQR_igJ"
   },
   "outputs": [
    {
     "name": "stderr",
     "output_type": "stream",
     "text": [
      "BR(BM25): 100%|████████████████████████████████████████████████████████████████| 200/200 [00:11<00:00, 17.01q/s]\n"
     ]
    },
    {
     "name": "stdout",
     "output_type": "stream",
     "text": [
      "Time taken : 12.68502163887024\n"
     ]
    },
    {
     "name": "stderr",
     "output_type": "stream",
     "text": [
      "/home/sayak/anaconda3/envs/coreir/lib/python3.9/site-packages/pyterrier/pipelines.py:108: UserWarning: 157 topic(s) not found in qrels. Scores for these topics are given as NaN and should not contribute to averages.\n",
      "  warn(f'{backfill_count} topic(s) not found in qrels. Scores for these topics are given as NaN and should not contribute to averages.')\n"
     ]
    }
   ],
   "source": [
    "# Topic wise evaluations\n",
    "\n",
    "start_time = time.time()\n",
    "\n",
    "result_per_query = pt.Experiment([BM25_baseline], \n",
    "                                 dataset.get_topics(\"test-2019\"),\n",
    "                                 dataset.get_qrels(\"test-2019\"), \n",
    "                                 eval_metrics=[\"recip_rank\", \"ndcg_cut_10\", \"map\"],\n",
    "                                 perquery=True)\n",
    "\n",
    "print(f'Time taken : {time.time() - start_time}')"
   ]
  },
  {
   "cell_type": "markdown",
   "metadata": {},
   "source": [
    "#### Find the worst performing topics"
   ]
  },
  {
   "cell_type": "code",
   "execution_count": 16,
   "metadata": {
    "id": "L5b3tD2L_t3X"
   },
   "outputs": [],
   "source": [
    "# Since qrel does not contain all topics remove null rows\n",
    "\n",
    "result_per_query = result_per_query[result_per_query[\"value\"].notnull()]"
   ]
  },
  {
   "cell_type": "code",
   "execution_count": 17,
   "metadata": {},
   "outputs": [],
   "source": [
    "# List of worst performing qids\n",
    "\n",
    "worst_perf_qids = []"
   ]
  },
  {
   "cell_type": "code",
   "execution_count": 18,
   "metadata": {
    "id": "9RO92Mk3_xSi"
   },
   "outputs": [
    {
     "data": {
      "text/html": [
       "<div>\n",
       "<style scoped>\n",
       "    .dataframe tbody tr th:only-of-type {\n",
       "        vertical-align: middle;\n",
       "    }\n",
       "\n",
       "    .dataframe tbody tr th {\n",
       "        vertical-align: top;\n",
       "    }\n",
       "\n",
       "    .dataframe thead th {\n",
       "        text-align: right;\n",
       "    }\n",
       "</style>\n",
       "<table border=\"1\" class=\"dataframe\">\n",
       "  <thead>\n",
       "    <tr style=\"text-align: right;\">\n",
       "      <th></th>\n",
       "      <th>name</th>\n",
       "      <th>qid</th>\n",
       "      <th>measure</th>\n",
       "      <th>value</th>\n",
       "    </tr>\n",
       "  </thead>\n",
       "  <tbody>\n",
       "    <tr>\n",
       "      <th>41</th>\n",
       "      <td>BR(BM25)</td>\n",
       "      <td>962179</td>\n",
       "      <td>ndcg_cut_10</td>\n",
       "      <td>0.000000</td>\n",
       "    </tr>\n",
       "    <tr>\n",
       "      <th>98</th>\n",
       "      <td>BR(BM25)</td>\n",
       "      <td>1121709</td>\n",
       "      <td>ndcg_cut_10</td>\n",
       "      <td>0.000000</td>\n",
       "    </tr>\n",
       "    <tr>\n",
       "      <th>95</th>\n",
       "      <td>BR(BM25)</td>\n",
       "      <td>443396</td>\n",
       "      <td>ndcg_cut_10</td>\n",
       "      <td>0.069431</td>\n",
       "    </tr>\n",
       "    <tr>\n",
       "      <th>50</th>\n",
       "      <td>BR(BM25)</td>\n",
       "      <td>451602</td>\n",
       "      <td>ndcg_cut_10</td>\n",
       "      <td>0.122273</td>\n",
       "    </tr>\n",
       "    <tr>\n",
       "      <th>8</th>\n",
       "      <td>BR(BM25)</td>\n",
       "      <td>1063750</td>\n",
       "      <td>ndcg_cut_10</td>\n",
       "      <td>0.142811</td>\n",
       "    </tr>\n",
       "  </tbody>\n",
       "</table>\n",
       "</div>"
      ],
      "text/plain": [
       "        name      qid      measure     value\n",
       "41  BR(BM25)   962179  ndcg_cut_10  0.000000\n",
       "98  BR(BM25)  1121709  ndcg_cut_10  0.000000\n",
       "95  BR(BM25)   443396  ndcg_cut_10  0.069431\n",
       "50  BR(BM25)   451602  ndcg_cut_10  0.122273\n",
       "8   BR(BM25)  1063750  ndcg_cut_10  0.142811"
      ]
     },
     "execution_count": 18,
     "metadata": {},
     "output_type": "execute_result"
    }
   ],
   "source": [
    "result_per_query[result_per_query[\"measure\"]=='ndcg_cut_10'].sort_values(by=\"value\").head(5)"
   ]
  },
  {
   "cell_type": "code",
   "execution_count": 19,
   "metadata": {},
   "outputs": [],
   "source": [
    "worst_perf_qids.append(list(result_per_query[result_per_query[\"measure\"]=='ndcg_cut_10'].sort_values(by=\"value\").head(5)['qid']))"
   ]
  },
  {
   "cell_type": "code",
   "execution_count": 20,
   "metadata": {
    "id": "4wr6jf51_yAI"
   },
   "outputs": [
    {
     "data": {
      "text/html": [
       "<div>\n",
       "<style scoped>\n",
       "    .dataframe tbody tr th:only-of-type {\n",
       "        vertical-align: middle;\n",
       "    }\n",
       "\n",
       "    .dataframe tbody tr th {\n",
       "        vertical-align: top;\n",
       "    }\n",
       "\n",
       "    .dataframe thead th {\n",
       "        text-align: right;\n",
       "    }\n",
       "</style>\n",
       "<table border=\"1\" class=\"dataframe\">\n",
       "  <thead>\n",
       "    <tr style=\"text-align: right;\">\n",
       "      <th></th>\n",
       "      <th>name</th>\n",
       "      <th>qid</th>\n",
       "      <th>measure</th>\n",
       "      <th>value</th>\n",
       "    </tr>\n",
       "  </thead>\n",
       "  <tbody>\n",
       "    <tr>\n",
       "      <th>97</th>\n",
       "      <td>BR(BM25)</td>\n",
       "      <td>1121709</td>\n",
       "      <td>recip_rank</td>\n",
       "      <td>0.002874</td>\n",
       "    </tr>\n",
       "    <tr>\n",
       "      <th>40</th>\n",
       "      <td>BR(BM25)</td>\n",
       "      <td>962179</td>\n",
       "      <td>recip_rank</td>\n",
       "      <td>0.025000</td>\n",
       "    </tr>\n",
       "    <tr>\n",
       "      <th>94</th>\n",
       "      <td>BR(BM25)</td>\n",
       "      <td>443396</td>\n",
       "      <td>recip_rank</td>\n",
       "      <td>0.125000</td>\n",
       "    </tr>\n",
       "    <tr>\n",
       "      <th>46</th>\n",
       "      <td>BR(BM25)</td>\n",
       "      <td>148538</td>\n",
       "      <td>recip_rank</td>\n",
       "      <td>0.200000</td>\n",
       "    </tr>\n",
       "    <tr>\n",
       "      <th>49</th>\n",
       "      <td>BR(BM25)</td>\n",
       "      <td>451602</td>\n",
       "      <td>recip_rank</td>\n",
       "      <td>0.333333</td>\n",
       "    </tr>\n",
       "  </tbody>\n",
       "</table>\n",
       "</div>"
      ],
      "text/plain": [
       "        name      qid     measure     value\n",
       "97  BR(BM25)  1121709  recip_rank  0.002874\n",
       "40  BR(BM25)   962179  recip_rank  0.025000\n",
       "94  BR(BM25)   443396  recip_rank  0.125000\n",
       "46  BR(BM25)   148538  recip_rank  0.200000\n",
       "49  BR(BM25)   451602  recip_rank  0.333333"
      ]
     },
     "execution_count": 20,
     "metadata": {},
     "output_type": "execute_result"
    }
   ],
   "source": [
    "result_per_query[result_per_query[\"measure\"]=='recip_rank'].sort_values(by=\"value\").head(5)"
   ]
  },
  {
   "cell_type": "code",
   "execution_count": 21,
   "metadata": {},
   "outputs": [],
   "source": [
    "worst_perf_qids.append(list(result_per_query[result_per_query[\"measure\"]=='recip_rank'].sort_values(by=\"value\").head(5)['qid']))"
   ]
  },
  {
   "cell_type": "code",
   "execution_count": 22,
   "metadata": {
    "id": "r1mIgUQpBKz0"
   },
   "outputs": [
    {
     "data": {
      "text/html": [
       "<div>\n",
       "<style scoped>\n",
       "    .dataframe tbody tr th:only-of-type {\n",
       "        vertical-align: middle;\n",
       "    }\n",
       "\n",
       "    .dataframe tbody tr th {\n",
       "        vertical-align: top;\n",
       "    }\n",
       "\n",
       "    .dataframe thead th {\n",
       "        text-align: right;\n",
       "    }\n",
       "</style>\n",
       "<table border=\"1\" class=\"dataframe\">\n",
       "  <thead>\n",
       "    <tr style=\"text-align: right;\">\n",
       "      <th></th>\n",
       "      <th>name</th>\n",
       "      <th>qid</th>\n",
       "      <th>measure</th>\n",
       "      <th>value</th>\n",
       "    </tr>\n",
       "  </thead>\n",
       "  <tbody>\n",
       "    <tr>\n",
       "      <th>96</th>\n",
       "      <td>BR(BM25)</td>\n",
       "      <td>1121709</td>\n",
       "      <td>map</td>\n",
       "      <td>0.000239</td>\n",
       "    </tr>\n",
       "    <tr>\n",
       "      <th>6</th>\n",
       "      <td>BR(BM25)</td>\n",
       "      <td>1063750</td>\n",
       "      <td>map</td>\n",
       "      <td>0.003193</td>\n",
       "    </tr>\n",
       "    <tr>\n",
       "      <th>93</th>\n",
       "      <td>BR(BM25)</td>\n",
       "      <td>443396</td>\n",
       "      <td>map</td>\n",
       "      <td>0.005157</td>\n",
       "    </tr>\n",
       "    <tr>\n",
       "      <th>12</th>\n",
       "      <td>BR(BM25)</td>\n",
       "      <td>489204</td>\n",
       "      <td>map</td>\n",
       "      <td>0.055242</td>\n",
       "    </tr>\n",
       "    <tr>\n",
       "      <th>39</th>\n",
       "      <td>BR(BM25)</td>\n",
       "      <td>962179</td>\n",
       "      <td>map</td>\n",
       "      <td>0.058701</td>\n",
       "    </tr>\n",
       "  </tbody>\n",
       "</table>\n",
       "</div>"
      ],
      "text/plain": [
       "        name      qid measure     value\n",
       "96  BR(BM25)  1121709     map  0.000239\n",
       "6   BR(BM25)  1063750     map  0.003193\n",
       "93  BR(BM25)   443396     map  0.005157\n",
       "12  BR(BM25)   489204     map  0.055242\n",
       "39  BR(BM25)   962179     map  0.058701"
      ]
     },
     "execution_count": 22,
     "metadata": {},
     "output_type": "execute_result"
    }
   ],
   "source": [
    "result_per_query[result_per_query[\"measure\"]=='map'].sort_values(by=\"value\").head(5)"
   ]
  },
  {
   "cell_type": "code",
   "execution_count": 23,
   "metadata": {},
   "outputs": [],
   "source": [
    "worst_perf_qids.append(list(result_per_query[result_per_query[\"measure\"]=='map'].sort_values(by=\"value\").head(5)['qid']))"
   ]
  },
  {
   "cell_type": "code",
   "execution_count": 24,
   "metadata": {
    "id": "rVyLzHce_0hl"
   },
   "outputs": [],
   "source": [
    "# Get unique list of top 5 worst performing queries\n",
    "worst_perf_qids = np.array(worst_perf_qids).flatten().tolist()\n",
    "worst_perf_qids = list(set(worst_perf_qids))"
   ]
  },
  {
   "cell_type": "code",
   "execution_count": 25,
   "metadata": {},
   "outputs": [
    {
     "data": {
      "text/plain": [
       "['443396', '489204', '1121709', '451602', '962179', '1063750', '148538']"
      ]
     },
     "execution_count": 25,
     "metadata": {},
     "output_type": "execute_result"
    }
   ],
   "source": [
    "worst_perf_qids"
   ]
  },
  {
   "cell_type": "markdown",
   "metadata": {},
   "source": [
    "#### Further Investigating the Worst Peroming Queries"
   ]
  },
  {
   "cell_type": "code",
   "execution_count": 26,
   "metadata": {},
   "outputs": [],
   "source": [
    "indFactoryObj_stemmed = pt.IndexFactory.of(index)\n",
    "indFactoryObj = pt.IndexFactory.of(index_unstemmed)"
   ]
  },
  {
   "cell_type": "code",
   "execution_count": 27,
   "metadata": {},
   "outputs": [],
   "source": [
    "metaIndex = indFactoryObj.getMetaIndex()\n",
    "invIndex = indFactoryObj.getInvertedIndex()\n",
    "dirIndex = indFactoryObj.getDirectIndex()\n",
    "docIndex = indFactoryObj.getDocumentIndex()\n",
    "lexFactory = indFactoryObj.getLexicon()"
   ]
  },
  {
   "cell_type": "code",
   "execution_count": 44,
   "metadata": {},
   "outputs": [],
   "source": [
    "def findInDocuments(term, ret_docno=False):\n",
    "    \n",
    "    numOccur = indFactoryObj.getLexicon()[term].getDocumentFrequency() if term in indFactoryObj.getLexicon() else 0\n",
    "    \n",
    "    if numOccur == 0:\n",
    "        print('Term not found')\n",
    "        return\n",
    "    \n",
    "    print(f'{term} occurs {numOccur} times in the collection')\n",
    "    print(f'Probability of Occurence is {numOccur / indFactoryObj.getCollectionStatistics().getNumberOfTokens()}')\n",
    "    \n",
    "    if ret_docno:\n",
    "        lexEntry = lexFactory.getLexiconEntry(term)\n",
    "\n",
    "        try:\n",
    "            for posting in invIndex.getPostings(lexEntry): \n",
    "                docno = metaIndex.getItem(\"docno\", posting.getId())\n",
    "                print(f'{docno}:{posting.getFrequency()} times')\n",
    "        except:\n",
    "            print('Term not found')"
   ]
  },
  {
   "cell_type": "code",
   "execution_count": 60,
   "metadata": {},
   "outputs": [],
   "source": [
    "def findTermsInDocuments(docid):\n",
    "    termList = []\n",
    "    \n",
    "    for posting in dirIndex.getPostings(docIndex.getDocumentEntry(docid)):\n",
    "        termID = posting.getId()\n",
    "        leEntry = lexFactory.getLexiconEntry(termID)\n",
    "        termList.append(leEntry.getKey())\n",
    "        # print(f'{leEntry.getKey()}: {posting.getFrequency()} times')\n",
    "    \n",
    "    print(termList)"
   ]
  },
  {
   "cell_type": "code",
   "execution_count": 30,
   "metadata": {},
   "outputs": [
    {
     "data": {
      "text/html": [
       "<div>\n",
       "<style scoped>\n",
       "    .dataframe tbody tr th:only-of-type {\n",
       "        vertical-align: middle;\n",
       "    }\n",
       "\n",
       "    .dataframe tbody tr th {\n",
       "        vertical-align: top;\n",
       "    }\n",
       "\n",
       "    .dataframe thead th {\n",
       "        text-align: right;\n",
       "    }\n",
       "</style>\n",
       "<table border=\"1\" class=\"dataframe\">\n",
       "  <thead>\n",
       "    <tr style=\"text-align: right;\">\n",
       "      <th></th>\n",
       "      <th>qid</th>\n",
       "      <th>query</th>\n",
       "    </tr>\n",
       "  </thead>\n",
       "  <tbody>\n",
       "    <tr>\n",
       "      <th>26</th>\n",
       "      <td>1063750</td>\n",
       "      <td>why did the us volunterilay enter ww1</td>\n",
       "    </tr>\n",
       "    <tr>\n",
       "      <th>42</th>\n",
       "      <td>489204</td>\n",
       "      <td>right pelvic pain causes</td>\n",
       "    </tr>\n",
       "    <tr>\n",
       "      <th>76</th>\n",
       "      <td>962179</td>\n",
       "      <td>when was the salvation army founded</td>\n",
       "    </tr>\n",
       "    <tr>\n",
       "      <th>83</th>\n",
       "      <td>148538</td>\n",
       "      <td>difference between rn and bsn</td>\n",
       "    </tr>\n",
       "    <tr>\n",
       "      <th>84</th>\n",
       "      <td>451602</td>\n",
       "      <td>medicare s definition of mechanical ventilation</td>\n",
       "    </tr>\n",
       "    <tr>\n",
       "      <th>142</th>\n",
       "      <td>443396</td>\n",
       "      <td>lps laws definition</td>\n",
       "    </tr>\n",
       "    <tr>\n",
       "      <th>148</th>\n",
       "      <td>1121709</td>\n",
       "      <td>what are the three percenters</td>\n",
       "    </tr>\n",
       "  </tbody>\n",
       "</table>\n",
       "</div>"
      ],
      "text/plain": [
       "         qid                                            query\n",
       "26   1063750            why did the us volunterilay enter ww1\n",
       "42    489204                         right pelvic pain causes\n",
       "76    962179              when was the salvation army founded\n",
       "83    148538                    difference between rn and bsn\n",
       "84    451602  medicare s definition of mechanical ventilation\n",
       "142   443396                              lps laws definition\n",
       "148  1121709                    what are the three percenters"
      ]
     },
     "execution_count": 30,
     "metadata": {},
     "output_type": "execute_result"
    }
   ],
   "source": [
    "topics[topics['qid'].isin(worst_perf_qids)]"
   ]
  },
  {
   "cell_type": "markdown",
   "metadata": {},
   "source": [
    "#### Query ID: #1063750 \"why did the us volunterilay enter ww1\""
   ]
  },
  {
   "cell_type": "code",
   "execution_count": 31,
   "metadata": {},
   "outputs": [
    {
     "data": {
      "text/html": [
       "<div>\n",
       "<style scoped>\n",
       "    .dataframe tbody tr th:only-of-type {\n",
       "        vertical-align: middle;\n",
       "    }\n",
       "\n",
       "    .dataframe tbody tr th {\n",
       "        vertical-align: top;\n",
       "    }\n",
       "\n",
       "    .dataframe thead th {\n",
       "        text-align: right;\n",
       "    }\n",
       "</style>\n",
       "<table border=\"1\" class=\"dataframe\">\n",
       "  <thead>\n",
       "    <tr style=\"text-align: right;\">\n",
       "      <th></th>\n",
       "      <th>qid</th>\n",
       "      <th>docno</th>\n",
       "      <th>label</th>\n",
       "    </tr>\n",
       "  </thead>\n",
       "  <tbody>\n",
       "    <tr>\n",
       "      <th>5827</th>\n",
       "      <td>1063750</td>\n",
       "      <td>4066863</td>\n",
       "      <td>3</td>\n",
       "    </tr>\n",
       "    <tr>\n",
       "      <th>5845</th>\n",
       "      <td>1063750</td>\n",
       "      <td>4337532</td>\n",
       "      <td>3</td>\n",
       "    </tr>\n",
       "    <tr>\n",
       "      <th>5971</th>\n",
       "      <td>1063750</td>\n",
       "      <td>7247262</td>\n",
       "      <td>3</td>\n",
       "    </tr>\n",
       "  </tbody>\n",
       "</table>\n",
       "</div>"
      ],
      "text/plain": [
       "          qid    docno  label\n",
       "5827  1063750  4066863      3\n",
       "5845  1063750  4337532      3\n",
       "5971  1063750  7247262      3"
      ]
     },
     "execution_count": 31,
     "metadata": {},
     "output_type": "execute_result"
    }
   ],
   "source": [
    "qrels_1063750 = qrels[qrels['qid'] == '1063750']\n",
    "qrels_1063750[qrels_1063750['label'] == 3]"
   ]
  },
  {
   "cell_type": "code",
   "execution_count": 42,
   "metadata": {},
   "outputs": [
    {
     "name": "stdout",
     "output_type": "stream",
     "text": [
      "Term not found\n"
     ]
    }
   ],
   "source": [
    "findInDocuments('volunterilay') # Spelling error"
   ]
  },
  {
   "cell_type": "code",
   "execution_count": 45,
   "metadata": {},
   "outputs": [
    {
     "name": "stdout",
     "output_type": "stream",
     "text": [
      "voluntarily occurs 1814 times in the collection\n",
      "Probability of Occurence is 3.5483338862787703e-06\n"
     ]
    }
   ],
   "source": [
    "findInDocuments('voluntarily') # Word doesn't exist"
   ]
  },
  {
   "cell_type": "code",
   "execution_count": 61,
   "metadata": {},
   "outputs": [
    {
     "name": "stdout",
     "output_type": "stream",
     "text": [
      "['of', 'the', 'to', 'and', 'history', 'its', 'an', 'world', 'war', 'this', 'change', 'u', 'for', 'first', 'a', 'in', 'states', 'united', 'caused', 'time', 'economic', 'public', 'effects', 'alliance', 'sinking', 'entered', 'boat', 'unrestricted', 'allies', 'ties', 'sussex', 'allied', 'submarine', 'zimmerman', 'warfare', 'lusitania', 'telegram', 'outrage', 'torpedoing']\n"
     ]
    }
   ],
   "source": [
    "findTermsInDocuments(4066863) # ww1 = world war (abbreviations)"
   ]
  },
  {
   "cell_type": "markdown",
   "metadata": {},
   "source": [
    "#### Query ID: #489204\t\"right pelvic pain causes\""
   ]
  },
  {
   "cell_type": "code",
   "execution_count": 62,
   "metadata": {},
   "outputs": [
    {
     "data": {
      "text/html": [
       "<div>\n",
       "<style scoped>\n",
       "    .dataframe tbody tr th:only-of-type {\n",
       "        vertical-align: middle;\n",
       "    }\n",
       "\n",
       "    .dataframe tbody tr th {\n",
       "        vertical-align: top;\n",
       "    }\n",
       "\n",
       "    .dataframe thead th {\n",
       "        text-align: right;\n",
       "    }\n",
       "</style>\n",
       "<table border=\"1\" class=\"dataframe\">\n",
       "  <thead>\n",
       "    <tr style=\"text-align: right;\">\n",
       "      <th></th>\n",
       "      <th>qid</th>\n",
       "      <th>docno</th>\n",
       "      <th>label</th>\n",
       "    </tr>\n",
       "  </thead>\n",
       "  <tbody>\n",
       "    <tr>\n",
       "      <th>4332</th>\n",
       "      <td>489204</td>\n",
       "      <td>852257</td>\n",
       "      <td>3</td>\n",
       "    </tr>\n",
       "  </tbody>\n",
       "</table>\n",
       "</div>"
      ],
      "text/plain": [
       "         qid   docno  label\n",
       "4332  489204  852257      3"
      ]
     },
     "execution_count": 62,
     "metadata": {},
     "output_type": "execute_result"
    }
   ],
   "source": [
    "qrels_489204 = qrels[qrels['qid'] == '489204']\n",
    "qrels_489204[qrels_489204['label'] == 3]"
   ]
  },
  {
   "cell_type": "code",
   "execution_count": 63,
   "metadata": {},
   "outputs": [
    {
     "name": "stdout",
     "output_type": "stream",
     "text": [
      "['the', 'to', 'is', 'that', 'for', 's', 'a', 'from', '2', 'or', '1', 'data', 'services', 'obtained', 'contractor', 'medicare', 'report', 'contains', 'statistics', '04', 'specific', 'fi', 'provider', 'administrative', 'fiscal', 'intermediary', 'submitted', 'payments', 'pepper', 'claims', 'vulnerable', 'mac', 'improper', 'discharges', 'snf', 'ub']\n"
     ]
    }
   ],
   "source": [
    "findTermsInDocuments(489204)"
   ]
  },
  {
   "cell_type": "markdown",
   "metadata": {},
   "source": [
    "#### Query ID: #962179\t\"when was the salvation army founded\""
   ]
  },
  {
   "cell_type": "code",
   "execution_count": 64,
   "metadata": {},
   "outputs": [
    {
     "data": {
      "text/html": [
       "<div>\n",
       "<style scoped>\n",
       "    .dataframe tbody tr th:only-of-type {\n",
       "        vertical-align: middle;\n",
       "    }\n",
       "\n",
       "    .dataframe tbody tr th {\n",
       "        vertical-align: top;\n",
       "    }\n",
       "\n",
       "    .dataframe thead th {\n",
       "        text-align: right;\n",
       "    }\n",
       "</style>\n",
       "<table border=\"1\" class=\"dataframe\">\n",
       "  <thead>\n",
       "    <tr style=\"text-align: right;\">\n",
       "      <th></th>\n",
       "      <th>qid</th>\n",
       "      <th>docno</th>\n",
       "      <th>label</th>\n",
       "    </tr>\n",
       "  </thead>\n",
       "  <tbody>\n",
       "    <tr>\n",
       "      <th>5351</th>\n",
       "      <td>962179</td>\n",
       "      <td>2329692</td>\n",
       "      <td>3</td>\n",
       "    </tr>\n",
       "    <tr>\n",
       "      <th>5352</th>\n",
       "      <td>962179</td>\n",
       "      <td>2329693</td>\n",
       "      <td>3</td>\n",
       "    </tr>\n",
       "    <tr>\n",
       "      <th>5356</th>\n",
       "      <td>962179</td>\n",
       "      <td>2329697</td>\n",
       "      <td>3</td>\n",
       "    </tr>\n",
       "    <tr>\n",
       "      <th>5358</th>\n",
       "      <td>962179</td>\n",
       "      <td>2329699</td>\n",
       "      <td>3</td>\n",
       "    </tr>\n",
       "    <tr>\n",
       "      <th>5360</th>\n",
       "      <td>962179</td>\n",
       "      <td>2329701</td>\n",
       "      <td>3</td>\n",
       "    </tr>\n",
       "  </tbody>\n",
       "</table>\n",
       "</div>"
      ],
      "text/plain": [
       "         qid    docno  label\n",
       "5351  962179  2329692      3\n",
       "5352  962179  2329693      3\n",
       "5356  962179  2329697      3\n",
       "5358  962179  2329699      3\n",
       "5360  962179  2329701      3"
      ]
     },
     "execution_count": 64,
     "metadata": {},
     "output_type": "execute_result"
    }
   ],
   "source": [
    "qrels_962179 = qrels[qrels['qid'] == '962179']\n",
    "qrels_962179[qrels_962179['label'] == 3].head(5)"
   ]
  },
  {
   "cell_type": "code",
   "execution_count": 65,
   "metadata": {},
   "outputs": [
    {
     "name": "stdout",
     "output_type": "stream",
     "text": [
      "salvation occurs 1560 times in the collection\n",
      "Probability of Occurence is 3.0514888988946426e-06\n"
     ]
    }
   ],
   "source": [
    "findInDocuments('salvation')"
   ]
  },
  {
   "cell_type": "code",
   "execution_count": 66,
   "metadata": {},
   "outputs": [
    {
     "name": "stdout",
     "output_type": "stream",
     "text": [
      "army occurs 30472 times in the collection\n",
      "Probability of Occurence is 5.960574982507536e-05\n"
     ]
    }
   ],
   "source": [
    "findInDocuments('army')"
   ]
  },
  {
   "cell_type": "code",
   "execution_count": 67,
   "metadata": {},
   "outputs": [
    {
     "name": "stdout",
     "output_type": "stream",
     "text": [
      "['of', 'the', 'to', 'and', 'was', 'it', 'general', 'first', 's', 'a', 'from', 'army', 'in', 'had', 'not', 'by', 'who', 'william', 'became', 'second', 'charles', '10', 'saw', 'being', 'been', 'need', 'april', 'set', 'churches', 'his', '20', 'n', 'son', 'music', 'wrote', 'august', 'lay', 'england', 'founder', 'serving', 'originally', 'poem', '1929', 'heaven', 'enters', 'lindsay', 'honor', 'methodist', '1878', '1912', 'tremendous', 'salvation', 'succeeded', 'fulfilled', 'neighbor', 'victorian', 'mainstream', 'preacher', '1829', 'booth', 'ives', 'bramwell', 'vachel']\n"
     ]
    }
   ],
   "source": [
    "findTermsInDocuments(2329692)"
   ]
  },
  {
   "cell_type": "markdown",
   "metadata": {},
   "source": [
    "#### Query ID: #148538\t\"difference between rn and bsn\""
   ]
  },
  {
   "cell_type": "code",
   "execution_count": null,
   "metadata": {},
   "outputs": [],
   "source": [
    "qrels_148538  = qrels[qrels['qid'] == '148538']\n",
    "qrels_148538 [qrels_148538 ['label'] == 3]"
   ]
  },
  {
   "cell_type": "markdown",
   "metadata": {},
   "source": [
    "#### Query ID: #489204\t\"medicare s definition of mechanical ventilation\""
   ]
  },
  {
   "cell_type": "code",
   "execution_count": null,
   "metadata": {},
   "outputs": [],
   "source": [
    "qrels_489204 = qrels[qrels['qid'] == '489204']\n",
    "qrels_489204[qrels_489204['label'] == 3]"
   ]
  },
  {
   "cell_type": "markdown",
   "metadata": {},
   "source": [
    "#### Query ID: #443396\t\"lps laws definition\""
   ]
  },
  {
   "cell_type": "code",
   "execution_count": null,
   "metadata": {},
   "outputs": [],
   "source": [
    "qrels_443396 = qrels[qrels['qid'] == '443396']\n",
    "qrels_443396[qrels_443396['label'] == 3]"
   ]
  },
  {
   "cell_type": "markdown",
   "metadata": {},
   "source": [
    "#### Query ID: #1121709\t\"what are the three percenters\""
   ]
  },
  {
   "cell_type": "code",
   "execution_count": null,
   "metadata": {},
   "outputs": [],
   "source": [
    "qrels_1121709 = qrels[qrels['qid'] == '1121709']\n",
    "qrels_1121709[qrels_1121709['label'] == 3]"
   ]
  }
 ],
 "metadata": {
  "colab": {
   "authorship_tag": "ABX9TyPqtNWBjQrU78J3CpnIWeFh",
   "collapsed_sections": [],
   "name": "ErrorAnalysis.ipynb",
   "provenance": []
  },
  "kernelspec": {
   "display_name": "Python 3 (ipykernel)",
   "language": "python",
   "name": "python3"
  },
  "language_info": {
   "codemirror_mode": {
    "name": "ipython",
    "version": 3
   },
   "file_extension": ".py",
   "mimetype": "text/x-python",
   "name": "python",
   "nbconvert_exporter": "python",
   "pygments_lexer": "ipython3",
   "version": "3.9.7"
  }
 },
 "nbformat": 4,
 "nbformat_minor": 1
}
